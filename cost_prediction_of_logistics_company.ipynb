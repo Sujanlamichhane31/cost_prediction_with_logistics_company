{
  "cells": [
    {
      "cell_type": "markdown",
      "source": [
        "**Data Preprocessing**\n",
        "\n"
      ],
      "metadata": {
        "id": "DtCTr87HqwXP"
      }
    },
    {
      "cell_type": "code",
      "execution_count": null,
      "metadata": {
        "colab": {
          "base_uri": "https://localhost:8080/",
          "height": 374
        },
        "id": "4rRcEDN9V5C-",
        "outputId": "05157629-e5b4-4f8c-b1d3-8f845142c97e"
      },
      "outputs": [
        {
          "output_type": "stream",
          "name": "stdout",
          "text": [
            "Mounted at /content/drive\n"
          ]
        },
        {
          "output_type": "execute_result",
          "data": {
            "text/plain": [
              "        trip       date dayPart exWeatherTag originLocation  \\\n",
              "0  t52712528 2017-09-06   night          NaN             S4   \n",
              "1  t29859381 2017-10-21   night          NaN             S8   \n",
              "2  t25702332 2017-07-15   night          NaN             S9   \n",
              "3  t27713405 2017-10-22     day          NaN             S9   \n",
              "4  t49439220 2019-12-11     day         snow             S9   \n",
              "\n",
              "  destinationLocation  distance       type  weight packageType carrier  \\\n",
              "0                  D7      2200  expedited      50         NaN       D   \n",
              "1                  D1      1800        NaN      12         NaN       B   \n",
              "2                  D5      2800        NaN       1         NaN       B   \n",
              "3                  D7      3200        NaN      50         NaN       C   \n",
              "4                  D1      2000        NaN      43         NaN       B   \n",
              "\n",
              "        cost  \n",
              "0  68.413152  \n",
              "1  36.450649  \n",
              "2   9.057939  \n",
              "3  57.320087  \n",
              "4  77.263777  "
            ],
            "text/html": [
              "\n",
              "\n",
              "  <div id=\"df-84c78c56-a7d8-4856-9c70-4d45d2e50b0f\">\n",
              "    <div class=\"colab-df-container\">\n",
              "      <div>\n",
              "<style scoped>\n",
              "    .dataframe tbody tr th:only-of-type {\n",
              "        vertical-align: middle;\n",
              "    }\n",
              "\n",
              "    .dataframe tbody tr th {\n",
              "        vertical-align: top;\n",
              "    }\n",
              "\n",
              "    .dataframe thead th {\n",
              "        text-align: right;\n",
              "    }\n",
              "</style>\n",
              "<table border=\"1\" class=\"dataframe\">\n",
              "  <thead>\n",
              "    <tr style=\"text-align: right;\">\n",
              "      <th></th>\n",
              "      <th>trip</th>\n",
              "      <th>date</th>\n",
              "      <th>dayPart</th>\n",
              "      <th>exWeatherTag</th>\n",
              "      <th>originLocation</th>\n",
              "      <th>destinationLocation</th>\n",
              "      <th>distance</th>\n",
              "      <th>type</th>\n",
              "      <th>weight</th>\n",
              "      <th>packageType</th>\n",
              "      <th>carrier</th>\n",
              "      <th>cost</th>\n",
              "    </tr>\n",
              "  </thead>\n",
              "  <tbody>\n",
              "    <tr>\n",
              "      <th>0</th>\n",
              "      <td>t52712528</td>\n",
              "      <td>2017-09-06</td>\n",
              "      <td>night</td>\n",
              "      <td>NaN</td>\n",
              "      <td>S4</td>\n",
              "      <td>D7</td>\n",
              "      <td>2200</td>\n",
              "      <td>expedited</td>\n",
              "      <td>50</td>\n",
              "      <td>NaN</td>\n",
              "      <td>D</td>\n",
              "      <td>68.413152</td>\n",
              "    </tr>\n",
              "    <tr>\n",
              "      <th>1</th>\n",
              "      <td>t29859381</td>\n",
              "      <td>2017-10-21</td>\n",
              "      <td>night</td>\n",
              "      <td>NaN</td>\n",
              "      <td>S8</td>\n",
              "      <td>D1</td>\n",
              "      <td>1800</td>\n",
              "      <td>NaN</td>\n",
              "      <td>12</td>\n",
              "      <td>NaN</td>\n",
              "      <td>B</td>\n",
              "      <td>36.450649</td>\n",
              "    </tr>\n",
              "    <tr>\n",
              "      <th>2</th>\n",
              "      <td>t25702332</td>\n",
              "      <td>2017-07-15</td>\n",
              "      <td>night</td>\n",
              "      <td>NaN</td>\n",
              "      <td>S9</td>\n",
              "      <td>D5</td>\n",
              "      <td>2800</td>\n",
              "      <td>NaN</td>\n",
              "      <td>1</td>\n",
              "      <td>NaN</td>\n",
              "      <td>B</td>\n",
              "      <td>9.057939</td>\n",
              "    </tr>\n",
              "    <tr>\n",
              "      <th>3</th>\n",
              "      <td>t27713405</td>\n",
              "      <td>2017-10-22</td>\n",
              "      <td>day</td>\n",
              "      <td>NaN</td>\n",
              "      <td>S9</td>\n",
              "      <td>D7</td>\n",
              "      <td>3200</td>\n",
              "      <td>NaN</td>\n",
              "      <td>50</td>\n",
              "      <td>NaN</td>\n",
              "      <td>C</td>\n",
              "      <td>57.320087</td>\n",
              "    </tr>\n",
              "    <tr>\n",
              "      <th>4</th>\n",
              "      <td>t49439220</td>\n",
              "      <td>2019-12-11</td>\n",
              "      <td>day</td>\n",
              "      <td>snow</td>\n",
              "      <td>S9</td>\n",
              "      <td>D1</td>\n",
              "      <td>2000</td>\n",
              "      <td>NaN</td>\n",
              "      <td>43</td>\n",
              "      <td>NaN</td>\n",
              "      <td>B</td>\n",
              "      <td>77.263777</td>\n",
              "    </tr>\n",
              "  </tbody>\n",
              "</table>\n",
              "</div>\n",
              "      <button class=\"colab-df-convert\" onclick=\"convertToInteractive('df-84c78c56-a7d8-4856-9c70-4d45d2e50b0f')\"\n",
              "              title=\"Convert this dataframe to an interactive table.\"\n",
              "              style=\"display:none;\">\n",
              "\n",
              "  <svg xmlns=\"http://www.w3.org/2000/svg\" height=\"24px\"viewBox=\"0 0 24 24\"\n",
              "       width=\"24px\">\n",
              "    <path d=\"M0 0h24v24H0V0z\" fill=\"none\"/>\n",
              "    <path d=\"M18.56 5.44l.94 2.06.94-2.06 2.06-.94-2.06-.94-.94-2.06-.94 2.06-2.06.94zm-11 1L8.5 8.5l.94-2.06 2.06-.94-2.06-.94L8.5 2.5l-.94 2.06-2.06.94zm10 10l.94 2.06.94-2.06 2.06-.94-2.06-.94-.94-2.06-.94 2.06-2.06.94z\"/><path d=\"M17.41 7.96l-1.37-1.37c-.4-.4-.92-.59-1.43-.59-.52 0-1.04.2-1.43.59L10.3 9.45l-7.72 7.72c-.78.78-.78 2.05 0 2.83L4 21.41c.39.39.9.59 1.41.59.51 0 1.02-.2 1.41-.59l7.78-7.78 2.81-2.81c.8-.78.8-2.07 0-2.86zM5.41 20L4 18.59l7.72-7.72 1.47 1.35L5.41 20z\"/>\n",
              "  </svg>\n",
              "      </button>\n",
              "\n",
              "\n",
              "\n",
              "    <div id=\"df-4587a818-0888-4b1a-bebc-4f62e8d81170\">\n",
              "      <button class=\"colab-df-quickchart\" onclick=\"quickchart('df-4587a818-0888-4b1a-bebc-4f62e8d81170')\"\n",
              "              title=\"Suggest charts.\"\n",
              "              style=\"display:none;\">\n",
              "\n",
              "<svg xmlns=\"http://www.w3.org/2000/svg\" height=\"24px\"viewBox=\"0 0 24 24\"\n",
              "     width=\"24px\">\n",
              "    <g>\n",
              "        <path d=\"M19 3H5c-1.1 0-2 .9-2 2v14c0 1.1.9 2 2 2h14c1.1 0 2-.9 2-2V5c0-1.1-.9-2-2-2zM9 17H7v-7h2v7zm4 0h-2V7h2v10zm4 0h-2v-4h2v4z\"/>\n",
              "    </g>\n",
              "</svg>\n",
              "      </button>\n",
              "    </div>\n",
              "\n",
              "<style>\n",
              "  .colab-df-quickchart {\n",
              "    background-color: #E8F0FE;\n",
              "    border: none;\n",
              "    border-radius: 50%;\n",
              "    cursor: pointer;\n",
              "    display: none;\n",
              "    fill: #1967D2;\n",
              "    height: 32px;\n",
              "    padding: 0 0 0 0;\n",
              "    width: 32px;\n",
              "  }\n",
              "\n",
              "  .colab-df-quickchart:hover {\n",
              "    background-color: #E2EBFA;\n",
              "    box-shadow: 0px 1px 2px rgba(60, 64, 67, 0.3), 0px 1px 3px 1px rgba(60, 64, 67, 0.15);\n",
              "    fill: #174EA6;\n",
              "  }\n",
              "\n",
              "  [theme=dark] .colab-df-quickchart {\n",
              "    background-color: #3B4455;\n",
              "    fill: #D2E3FC;\n",
              "  }\n",
              "\n",
              "  [theme=dark] .colab-df-quickchart:hover {\n",
              "    background-color: #434B5C;\n",
              "    box-shadow: 0px 1px 3px 1px rgba(0, 0, 0, 0.15);\n",
              "    filter: drop-shadow(0px 1px 2px rgba(0, 0, 0, 0.3));\n",
              "    fill: #FFFFFF;\n",
              "  }\n",
              "</style>\n",
              "\n",
              "    <script>\n",
              "      async function quickchart(key) {\n",
              "        const containerElement = document.querySelector('#' + key);\n",
              "        const charts = await google.colab.kernel.invokeFunction(\n",
              "            'suggestCharts', [key], {});\n",
              "      }\n",
              "    </script>\n",
              "\n",
              "      <script>\n",
              "\n",
              "function displayQuickchartButton(domScope) {\n",
              "  let quickchartButtonEl =\n",
              "    domScope.querySelector('#df-4587a818-0888-4b1a-bebc-4f62e8d81170 button.colab-df-quickchart');\n",
              "  quickchartButtonEl.style.display =\n",
              "    google.colab.kernel.accessAllowed ? 'block' : 'none';\n",
              "}\n",
              "\n",
              "        displayQuickchartButton(document);\n",
              "      </script>\n",
              "      <style>\n",
              "    .colab-df-container {\n",
              "      display:flex;\n",
              "      flex-wrap:wrap;\n",
              "      gap: 12px;\n",
              "    }\n",
              "\n",
              "    .colab-df-convert {\n",
              "      background-color: #E8F0FE;\n",
              "      border: none;\n",
              "      border-radius: 50%;\n",
              "      cursor: pointer;\n",
              "      display: none;\n",
              "      fill: #1967D2;\n",
              "      height: 32px;\n",
              "      padding: 0 0 0 0;\n",
              "      width: 32px;\n",
              "    }\n",
              "\n",
              "    .colab-df-convert:hover {\n",
              "      background-color: #E2EBFA;\n",
              "      box-shadow: 0px 1px 2px rgba(60, 64, 67, 0.3), 0px 1px 3px 1px rgba(60, 64, 67, 0.15);\n",
              "      fill: #174EA6;\n",
              "    }\n",
              "\n",
              "    [theme=dark] .colab-df-convert {\n",
              "      background-color: #3B4455;\n",
              "      fill: #D2E3FC;\n",
              "    }\n",
              "\n",
              "    [theme=dark] .colab-df-convert:hover {\n",
              "      background-color: #434B5C;\n",
              "      box-shadow: 0px 1px 3px 1px rgba(0, 0, 0, 0.15);\n",
              "      filter: drop-shadow(0px 1px 2px rgba(0, 0, 0, 0.3));\n",
              "      fill: #FFFFFF;\n",
              "    }\n",
              "  </style>\n",
              "\n",
              "      <script>\n",
              "        const buttonEl =\n",
              "          document.querySelector('#df-84c78c56-a7d8-4856-9c70-4d45d2e50b0f button.colab-df-convert');\n",
              "        buttonEl.style.display =\n",
              "          google.colab.kernel.accessAllowed ? 'block' : 'none';\n",
              "\n",
              "        async function convertToInteractive(key) {\n",
              "          const element = document.querySelector('#df-84c78c56-a7d8-4856-9c70-4d45d2e50b0f');\n",
              "          const dataTable =\n",
              "            await google.colab.kernel.invokeFunction('convertToInteractive',\n",
              "                                                     [key], {});\n",
              "          if (!dataTable) return;\n",
              "\n",
              "          const docLinkHtml = 'Like what you see? Visit the ' +\n",
              "            '<a target=\"_blank\" href=https://colab.research.google.com/notebooks/data_table.ipynb>data table notebook</a>'\n",
              "            + ' to learn more about interactive tables.';\n",
              "          element.innerHTML = '';\n",
              "          dataTable['output_type'] = 'display_data';\n",
              "          await google.colab.output.renderOutput(dataTable, element);\n",
              "          const docLink = document.createElement('div');\n",
              "          docLink.innerHTML = docLinkHtml;\n",
              "          element.appendChild(docLink);\n",
              "        }\n",
              "      </script>\n",
              "    </div>\n",
              "  </div>\n"
            ]
          },
          "metadata": {},
          "execution_count": 1
        }
      ],
      "source": [
        "# Import necessary libraries\n",
        "import pandas as pd     # Import pandas library as 'pd' for data manipulation\n",
        "import numpy as np      # Import numpy library as 'np' for numerical computations\n",
        "import matplotlib.pyplot as plt    # Import matplotlib.pyplot as 'plt' for data visualization\n",
        "import seaborn as sns   # Import seaborn as 'sns' for statistical data visualization\n",
        "\n",
        "# from google.colab import drive    # Import drive module from google.colab to mount Google Drive\n",
        "# drive.mount('/content/drive')     # Mount Google Drive to access files\n",
        "\n",
        "# # Define the file paths to your CSV files in Google Drive\n",
        "# train_data = '/content/drive/MyDrive/train.csv'    # File path for the training dataset\n",
        "# test_data = '/content/drive/MyDrive/test.csv'      # File path for the test dataset\n",
        "\n",
        "# Define the file paths to your CSV files\n",
        "train_data = 'train.csv'    # File path for the training dataset\n",
        "test_data = 'test.csv'      # File path for the test dataset\n",
        "\n",
        "# Read the training dataset from the CSV file, parsing the 'date' column as datetime\n",
        "df_train = pd.read_csv(train_data, parse_dates=['date'])\n",
        "df_train.head(5)    # Display the first 5 rows of the DataFrame to check the data\n"
      ]
    },
    {
      "cell_type": "code",
      "execution_count": null,
      "metadata": {
        "colab": {
          "base_uri": "https://localhost:8080/"
        },
        "id": "5H0BsM5Z6WUk",
        "outputId": "c663edea-1d6e-42d2-f17d-38b44c619a64"
      },
      "outputs": [
        {
          "output_type": "execute_result",
          "data": {
            "text/plain": [
              "((38999, 12), 467988)"
            ]
          },
          "metadata": {},
          "execution_count": 2
        }
      ],
      "source": [
        "# Get the shape of the DataFrame 'df_train'\n",
        "# Get the size of the DataFrame 'df_train'\n",
        "\n",
        "df_train.shape, df_train.size"
      ]
    },
    {
      "cell_type": "code",
      "execution_count": null,
      "metadata": {
        "colab": {
          "base_uri": "https://localhost:8080/"
        },
        "id": "yDBeBgFr6fXE",
        "outputId": "18b72f50-278e-43c1-d9fb-0bda862b3459"
      },
      "outputs": [
        {
          "output_type": "stream",
          "name": "stdout",
          "text": [
            "<class 'pandas.core.frame.DataFrame'>\n",
            "RangeIndex: 38999 entries, 0 to 38998\n",
            "Data columns (total 12 columns):\n",
            " #   Column               Non-Null Count  Dtype         \n",
            "---  ------               --------------  -----         \n",
            " 0   trip                 38999 non-null  object        \n",
            " 1   date                 38999 non-null  datetime64[ns]\n",
            " 2   dayPart              38999 non-null  object        \n",
            " 3   exWeatherTag         4882 non-null   object        \n",
            " 4   originLocation       38999 non-null  object        \n",
            " 5   destinationLocation  38999 non-null  object        \n",
            " 6   distance             38999 non-null  int64         \n",
            " 7   type                 3748 non-null   object        \n",
            " 8   weight               38999 non-null  int64         \n",
            " 9   packageType          2500 non-null   object        \n",
            " 10  carrier              38999 non-null  object        \n",
            " 11  cost                 38999 non-null  float64       \n",
            "dtypes: datetime64[ns](1), float64(1), int64(2), object(8)\n",
            "memory usage: 3.6+ MB\n"
          ]
        }
      ],
      "source": [
        "df_train.info() # Getting the info of the dataframe"
      ]
    },
    {
      "cell_type": "code",
      "execution_count": null,
      "metadata": {
        "colab": {
          "base_uri": "https://localhost:8080/",
          "height": 300
        },
        "id": "_u_llZ4F6hFt",
        "outputId": "0ea4bc6a-6f3d-4c64-a9a5-906f64f112c5"
      },
      "outputs": [
        {
          "output_type": "execute_result",
          "data": {
            "text/plain": [
              "           distance        weight          cost\n",
              "count  38999.000000  38999.000000  38999.000000\n",
              "mean    2004.061643     42.293033     80.972210\n",
              "std      728.996843     75.473752    180.715055\n",
              "min      400.000000      1.000000      5.000000\n",
              "25%     1400.000000     13.000000     38.768742\n",
              "50%     2000.000000     25.000000     46.468476\n",
              "75%     2600.000000     39.000000     70.239797\n",
              "max     3600.000000    500.000000   2019.734797"
            ],
            "text/html": [
              "\n",
              "\n",
              "  <div id=\"df-504c3067-299f-40a2-871b-0fa0a8b12550\">\n",
              "    <div class=\"colab-df-container\">\n",
              "      <div>\n",
              "<style scoped>\n",
              "    .dataframe tbody tr th:only-of-type {\n",
              "        vertical-align: middle;\n",
              "    }\n",
              "\n",
              "    .dataframe tbody tr th {\n",
              "        vertical-align: top;\n",
              "    }\n",
              "\n",
              "    .dataframe thead th {\n",
              "        text-align: right;\n",
              "    }\n",
              "</style>\n",
              "<table border=\"1\" class=\"dataframe\">\n",
              "  <thead>\n",
              "    <tr style=\"text-align: right;\">\n",
              "      <th></th>\n",
              "      <th>distance</th>\n",
              "      <th>weight</th>\n",
              "      <th>cost</th>\n",
              "    </tr>\n",
              "  </thead>\n",
              "  <tbody>\n",
              "    <tr>\n",
              "      <th>count</th>\n",
              "      <td>38999.000000</td>\n",
              "      <td>38999.000000</td>\n",
              "      <td>38999.000000</td>\n",
              "    </tr>\n",
              "    <tr>\n",
              "      <th>mean</th>\n",
              "      <td>2004.061643</td>\n",
              "      <td>42.293033</td>\n",
              "      <td>80.972210</td>\n",
              "    </tr>\n",
              "    <tr>\n",
              "      <th>std</th>\n",
              "      <td>728.996843</td>\n",
              "      <td>75.473752</td>\n",
              "      <td>180.715055</td>\n",
              "    </tr>\n",
              "    <tr>\n",
              "      <th>min</th>\n",
              "      <td>400.000000</td>\n",
              "      <td>1.000000</td>\n",
              "      <td>5.000000</td>\n",
              "    </tr>\n",
              "    <tr>\n",
              "      <th>25%</th>\n",
              "      <td>1400.000000</td>\n",
              "      <td>13.000000</td>\n",
              "      <td>38.768742</td>\n",
              "    </tr>\n",
              "    <tr>\n",
              "      <th>50%</th>\n",
              "      <td>2000.000000</td>\n",
              "      <td>25.000000</td>\n",
              "      <td>46.468476</td>\n",
              "    </tr>\n",
              "    <tr>\n",
              "      <th>75%</th>\n",
              "      <td>2600.000000</td>\n",
              "      <td>39.000000</td>\n",
              "      <td>70.239797</td>\n",
              "    </tr>\n",
              "    <tr>\n",
              "      <th>max</th>\n",
              "      <td>3600.000000</td>\n",
              "      <td>500.000000</td>\n",
              "      <td>2019.734797</td>\n",
              "    </tr>\n",
              "  </tbody>\n",
              "</table>\n",
              "</div>\n",
              "      <button class=\"colab-df-convert\" onclick=\"convertToInteractive('df-504c3067-299f-40a2-871b-0fa0a8b12550')\"\n",
              "              title=\"Convert this dataframe to an interactive table.\"\n",
              "              style=\"display:none;\">\n",
              "\n",
              "  <svg xmlns=\"http://www.w3.org/2000/svg\" height=\"24px\"viewBox=\"0 0 24 24\"\n",
              "       width=\"24px\">\n",
              "    <path d=\"M0 0h24v24H0V0z\" fill=\"none\"/>\n",
              "    <path d=\"M18.56 5.44l.94 2.06.94-2.06 2.06-.94-2.06-.94-.94-2.06-.94 2.06-2.06.94zm-11 1L8.5 8.5l.94-2.06 2.06-.94-2.06-.94L8.5 2.5l-.94 2.06-2.06.94zm10 10l.94 2.06.94-2.06 2.06-.94-2.06-.94-.94-2.06-.94 2.06-2.06.94z\"/><path d=\"M17.41 7.96l-1.37-1.37c-.4-.4-.92-.59-1.43-.59-.52 0-1.04.2-1.43.59L10.3 9.45l-7.72 7.72c-.78.78-.78 2.05 0 2.83L4 21.41c.39.39.9.59 1.41.59.51 0 1.02-.2 1.41-.59l7.78-7.78 2.81-2.81c.8-.78.8-2.07 0-2.86zM5.41 20L4 18.59l7.72-7.72 1.47 1.35L5.41 20z\"/>\n",
              "  </svg>\n",
              "      </button>\n",
              "\n",
              "\n",
              "\n",
              "    <div id=\"df-db13bda2-1933-42e8-949b-9ecf9fefd5b6\">\n",
              "      <button class=\"colab-df-quickchart\" onclick=\"quickchart('df-db13bda2-1933-42e8-949b-9ecf9fefd5b6')\"\n",
              "              title=\"Suggest charts.\"\n",
              "              style=\"display:none;\">\n",
              "\n",
              "<svg xmlns=\"http://www.w3.org/2000/svg\" height=\"24px\"viewBox=\"0 0 24 24\"\n",
              "     width=\"24px\">\n",
              "    <g>\n",
              "        <path d=\"M19 3H5c-1.1 0-2 .9-2 2v14c0 1.1.9 2 2 2h14c1.1 0 2-.9 2-2V5c0-1.1-.9-2-2-2zM9 17H7v-7h2v7zm4 0h-2V7h2v10zm4 0h-2v-4h2v4z\"/>\n",
              "    </g>\n",
              "</svg>\n",
              "      </button>\n",
              "    </div>\n",
              "\n",
              "<style>\n",
              "  .colab-df-quickchart {\n",
              "    background-color: #E8F0FE;\n",
              "    border: none;\n",
              "    border-radius: 50%;\n",
              "    cursor: pointer;\n",
              "    display: none;\n",
              "    fill: #1967D2;\n",
              "    height: 32px;\n",
              "    padding: 0 0 0 0;\n",
              "    width: 32px;\n",
              "  }\n",
              "\n",
              "  .colab-df-quickchart:hover {\n",
              "    background-color: #E2EBFA;\n",
              "    box-shadow: 0px 1px 2px rgba(60, 64, 67, 0.3), 0px 1px 3px 1px rgba(60, 64, 67, 0.15);\n",
              "    fill: #174EA6;\n",
              "  }\n",
              "\n",
              "  [theme=dark] .colab-df-quickchart {\n",
              "    background-color: #3B4455;\n",
              "    fill: #D2E3FC;\n",
              "  }\n",
              "\n",
              "  [theme=dark] .colab-df-quickchart:hover {\n",
              "    background-color: #434B5C;\n",
              "    box-shadow: 0px 1px 3px 1px rgba(0, 0, 0, 0.15);\n",
              "    filter: drop-shadow(0px 1px 2px rgba(0, 0, 0, 0.3));\n",
              "    fill: #FFFFFF;\n",
              "  }\n",
              "</style>\n",
              "\n",
              "    <script>\n",
              "      async function quickchart(key) {\n",
              "        const containerElement = document.querySelector('#' + key);\n",
              "        const charts = await google.colab.kernel.invokeFunction(\n",
              "            'suggestCharts', [key], {});\n",
              "      }\n",
              "    </script>\n",
              "\n",
              "      <script>\n",
              "\n",
              "function displayQuickchartButton(domScope) {\n",
              "  let quickchartButtonEl =\n",
              "    domScope.querySelector('#df-db13bda2-1933-42e8-949b-9ecf9fefd5b6 button.colab-df-quickchart');\n",
              "  quickchartButtonEl.style.display =\n",
              "    google.colab.kernel.accessAllowed ? 'block' : 'none';\n",
              "}\n",
              "\n",
              "        displayQuickchartButton(document);\n",
              "      </script>\n",
              "      <style>\n",
              "    .colab-df-container {\n",
              "      display:flex;\n",
              "      flex-wrap:wrap;\n",
              "      gap: 12px;\n",
              "    }\n",
              "\n",
              "    .colab-df-convert {\n",
              "      background-color: #E8F0FE;\n",
              "      border: none;\n",
              "      border-radius: 50%;\n",
              "      cursor: pointer;\n",
              "      display: none;\n",
              "      fill: #1967D2;\n",
              "      height: 32px;\n",
              "      padding: 0 0 0 0;\n",
              "      width: 32px;\n",
              "    }\n",
              "\n",
              "    .colab-df-convert:hover {\n",
              "      background-color: #E2EBFA;\n",
              "      box-shadow: 0px 1px 2px rgba(60, 64, 67, 0.3), 0px 1px 3px 1px rgba(60, 64, 67, 0.15);\n",
              "      fill: #174EA6;\n",
              "    }\n",
              "\n",
              "    [theme=dark] .colab-df-convert {\n",
              "      background-color: #3B4455;\n",
              "      fill: #D2E3FC;\n",
              "    }\n",
              "\n",
              "    [theme=dark] .colab-df-convert:hover {\n",
              "      background-color: #434B5C;\n",
              "      box-shadow: 0px 1px 3px 1px rgba(0, 0, 0, 0.15);\n",
              "      filter: drop-shadow(0px 1px 2px rgba(0, 0, 0, 0.3));\n",
              "      fill: #FFFFFF;\n",
              "    }\n",
              "  </style>\n",
              "\n",
              "      <script>\n",
              "        const buttonEl =\n",
              "          document.querySelector('#df-504c3067-299f-40a2-871b-0fa0a8b12550 button.colab-df-convert');\n",
              "        buttonEl.style.display =\n",
              "          google.colab.kernel.accessAllowed ? 'block' : 'none';\n",
              "\n",
              "        async function convertToInteractive(key) {\n",
              "          const element = document.querySelector('#df-504c3067-299f-40a2-871b-0fa0a8b12550');\n",
              "          const dataTable =\n",
              "            await google.colab.kernel.invokeFunction('convertToInteractive',\n",
              "                                                     [key], {});\n",
              "          if (!dataTable) return;\n",
              "\n",
              "          const docLinkHtml = 'Like what you see? Visit the ' +\n",
              "            '<a target=\"_blank\" href=https://colab.research.google.com/notebooks/data_table.ipynb>data table notebook</a>'\n",
              "            + ' to learn more about interactive tables.';\n",
              "          element.innerHTML = '';\n",
              "          dataTable['output_type'] = 'display_data';\n",
              "          await google.colab.output.renderOutput(dataTable, element);\n",
              "          const docLink = document.createElement('div');\n",
              "          docLink.innerHTML = docLinkHtml;\n",
              "          element.appendChild(docLink);\n",
              "        }\n",
              "      </script>\n",
              "    </div>\n",
              "  </div>\n"
            ]
          },
          "metadata": {},
          "execution_count": 4
        }
      ],
      "source": [
        "df_train.describe() #Getting the description of the data in the dataframe"
      ]
    },
    {
      "cell_type": "code",
      "execution_count": null,
      "metadata": {
        "colab": {
          "base_uri": "https://localhost:8080/"
        },
        "id": "sNfpFsv46jOD",
        "outputId": "b3a8f88c-5a77-439b-924f-e3e2471bd2ba"
      },
      "outputs": [
        {
          "output_type": "execute_result",
          "data": {
            "text/plain": [
              "Index(['trip', 'date', 'dayPart', 'exWeatherTag', 'originLocation',\n",
              "       'destinationLocation', 'distance', 'type', 'weight', 'packageType',\n",
              "       'carrier', 'cost'],\n",
              "      dtype='object')"
            ]
          },
          "metadata": {},
          "execution_count": 5
        }
      ],
      "source": [
        "df_train.columns    # getting the labels of each column"
      ]
    },
    {
      "cell_type": "code",
      "execution_count": null,
      "metadata": {
        "colab": {
          "base_uri": "https://localhost:8080/"
        },
        "id": "4mBDybRY6mwX",
        "outputId": "c30c4ced-e301-458f-a870-d8fb6443ad11"
      },
      "outputs": [
        {
          "output_type": "execute_result",
          "data": {
            "text/plain": [
              "trip                   38999\n",
              "date                    1074\n",
              "dayPart                    2\n",
              "exWeatherTag               2\n",
              "originLocation             9\n",
              "destinationLocation        9\n",
              "distance                  17\n",
              "type                       1\n",
              "weight                   499\n",
              "packageType                1\n",
              "carrier                    4\n",
              "cost                    3665\n",
              "dtype: int64"
            ]
          },
          "metadata": {},
          "execution_count": 6
        }
      ],
      "source": [
        "# The nunique() function returns a Series that contains the count of distinct (unique) values in each column.\n",
        "df_train.nunique()"
      ]
    },
    {
      "cell_type": "code",
      "execution_count": null,
      "metadata": {
        "colab": {
          "base_uri": "https://localhost:8080/",
          "height": 357
        },
        "id": "73lTq5jR6oie",
        "outputId": "f78b5adb-9559-403c-dfb7-fdd1bc047072"
      },
      "outputs": [
        {
          "output_type": "execute_result",
          "data": {
            "text/plain": [
              "        date dayPart exWeatherTag originLocation destinationLocation  \\\n",
              "0 2017-09-06   night          NaN             S4                  D7   \n",
              "1 2017-10-21   night          NaN             S8                  D1   \n",
              "2 2017-07-15   night          NaN             S9                  D5   \n",
              "3 2017-10-22     day          NaN             S9                  D7   \n",
              "4 2019-12-11     day         snow             S9                  D1   \n",
              "\n",
              "   distance       type  weight packageType carrier       cost  \n",
              "0      2200  expedited      50         NaN       D  68.413152  \n",
              "1      1800        NaN      12         NaN       B  36.450649  \n",
              "2      2800        NaN       1         NaN       B   9.057939  \n",
              "3      3200        NaN      50         NaN       C  57.320087  \n",
              "4      2000        NaN      43         NaN       B  77.263777  "
            ],
            "text/html": [
              "\n",
              "\n",
              "  <div id=\"df-7ff61c44-6cf3-4fa5-8673-87b713b2042f\">\n",
              "    <div class=\"colab-df-container\">\n",
              "      <div>\n",
              "<style scoped>\n",
              "    .dataframe tbody tr th:only-of-type {\n",
              "        vertical-align: middle;\n",
              "    }\n",
              "\n",
              "    .dataframe tbody tr th {\n",
              "        vertical-align: top;\n",
              "    }\n",
              "\n",
              "    .dataframe thead th {\n",
              "        text-align: right;\n",
              "    }\n",
              "</style>\n",
              "<table border=\"1\" class=\"dataframe\">\n",
              "  <thead>\n",
              "    <tr style=\"text-align: right;\">\n",
              "      <th></th>\n",
              "      <th>date</th>\n",
              "      <th>dayPart</th>\n",
              "      <th>exWeatherTag</th>\n",
              "      <th>originLocation</th>\n",
              "      <th>destinationLocation</th>\n",
              "      <th>distance</th>\n",
              "      <th>type</th>\n",
              "      <th>weight</th>\n",
              "      <th>packageType</th>\n",
              "      <th>carrier</th>\n",
              "      <th>cost</th>\n",
              "    </tr>\n",
              "  </thead>\n",
              "  <tbody>\n",
              "    <tr>\n",
              "      <th>0</th>\n",
              "      <td>2017-09-06</td>\n",
              "      <td>night</td>\n",
              "      <td>NaN</td>\n",
              "      <td>S4</td>\n",
              "      <td>D7</td>\n",
              "      <td>2200</td>\n",
              "      <td>expedited</td>\n",
              "      <td>50</td>\n",
              "      <td>NaN</td>\n",
              "      <td>D</td>\n",
              "      <td>68.413152</td>\n",
              "    </tr>\n",
              "    <tr>\n",
              "      <th>1</th>\n",
              "      <td>2017-10-21</td>\n",
              "      <td>night</td>\n",
              "      <td>NaN</td>\n",
              "      <td>S8</td>\n",
              "      <td>D1</td>\n",
              "      <td>1800</td>\n",
              "      <td>NaN</td>\n",
              "      <td>12</td>\n",
              "      <td>NaN</td>\n",
              "      <td>B</td>\n",
              "      <td>36.450649</td>\n",
              "    </tr>\n",
              "    <tr>\n",
              "      <th>2</th>\n",
              "      <td>2017-07-15</td>\n",
              "      <td>night</td>\n",
              "      <td>NaN</td>\n",
              "      <td>S9</td>\n",
              "      <td>D5</td>\n",
              "      <td>2800</td>\n",
              "      <td>NaN</td>\n",
              "      <td>1</td>\n",
              "      <td>NaN</td>\n",
              "      <td>B</td>\n",
              "      <td>9.057939</td>\n",
              "    </tr>\n",
              "    <tr>\n",
              "      <th>3</th>\n",
              "      <td>2017-10-22</td>\n",
              "      <td>day</td>\n",
              "      <td>NaN</td>\n",
              "      <td>S9</td>\n",
              "      <td>D7</td>\n",
              "      <td>3200</td>\n",
              "      <td>NaN</td>\n",
              "      <td>50</td>\n",
              "      <td>NaN</td>\n",
              "      <td>C</td>\n",
              "      <td>57.320087</td>\n",
              "    </tr>\n",
              "    <tr>\n",
              "      <th>4</th>\n",
              "      <td>2019-12-11</td>\n",
              "      <td>day</td>\n",
              "      <td>snow</td>\n",
              "      <td>S9</td>\n",
              "      <td>D1</td>\n",
              "      <td>2000</td>\n",
              "      <td>NaN</td>\n",
              "      <td>43</td>\n",
              "      <td>NaN</td>\n",
              "      <td>B</td>\n",
              "      <td>77.263777</td>\n",
              "    </tr>\n",
              "  </tbody>\n",
              "</table>\n",
              "</div>\n",
              "      <button class=\"colab-df-convert\" onclick=\"convertToInteractive('df-7ff61c44-6cf3-4fa5-8673-87b713b2042f')\"\n",
              "              title=\"Convert this dataframe to an interactive table.\"\n",
              "              style=\"display:none;\">\n",
              "\n",
              "  <svg xmlns=\"http://www.w3.org/2000/svg\" height=\"24px\"viewBox=\"0 0 24 24\"\n",
              "       width=\"24px\">\n",
              "    <path d=\"M0 0h24v24H0V0z\" fill=\"none\"/>\n",
              "    <path d=\"M18.56 5.44l.94 2.06.94-2.06 2.06-.94-2.06-.94-.94-2.06-.94 2.06-2.06.94zm-11 1L8.5 8.5l.94-2.06 2.06-.94-2.06-.94L8.5 2.5l-.94 2.06-2.06.94zm10 10l.94 2.06.94-2.06 2.06-.94-2.06-.94-.94-2.06-.94 2.06-2.06.94z\"/><path d=\"M17.41 7.96l-1.37-1.37c-.4-.4-.92-.59-1.43-.59-.52 0-1.04.2-1.43.59L10.3 9.45l-7.72 7.72c-.78.78-.78 2.05 0 2.83L4 21.41c.39.39.9.59 1.41.59.51 0 1.02-.2 1.41-.59l7.78-7.78 2.81-2.81c.8-.78.8-2.07 0-2.86zM5.41 20L4 18.59l7.72-7.72 1.47 1.35L5.41 20z\"/>\n",
              "  </svg>\n",
              "      </button>\n",
              "\n",
              "\n",
              "\n",
              "    <div id=\"df-6e8852a3-c231-4b9e-92fd-62a66be1b2de\">\n",
              "      <button class=\"colab-df-quickchart\" onclick=\"quickchart('df-6e8852a3-c231-4b9e-92fd-62a66be1b2de')\"\n",
              "              title=\"Suggest charts.\"\n",
              "              style=\"display:none;\">\n",
              "\n",
              "<svg xmlns=\"http://www.w3.org/2000/svg\" height=\"24px\"viewBox=\"0 0 24 24\"\n",
              "     width=\"24px\">\n",
              "    <g>\n",
              "        <path d=\"M19 3H5c-1.1 0-2 .9-2 2v14c0 1.1.9 2 2 2h14c1.1 0 2-.9 2-2V5c0-1.1-.9-2-2-2zM9 17H7v-7h2v7zm4 0h-2V7h2v10zm4 0h-2v-4h2v4z\"/>\n",
              "    </g>\n",
              "</svg>\n",
              "      </button>\n",
              "    </div>\n",
              "\n",
              "<style>\n",
              "  .colab-df-quickchart {\n",
              "    background-color: #E8F0FE;\n",
              "    border: none;\n",
              "    border-radius: 50%;\n",
              "    cursor: pointer;\n",
              "    display: none;\n",
              "    fill: #1967D2;\n",
              "    height: 32px;\n",
              "    padding: 0 0 0 0;\n",
              "    width: 32px;\n",
              "  }\n",
              "\n",
              "  .colab-df-quickchart:hover {\n",
              "    background-color: #E2EBFA;\n",
              "    box-shadow: 0px 1px 2px rgba(60, 64, 67, 0.3), 0px 1px 3px 1px rgba(60, 64, 67, 0.15);\n",
              "    fill: #174EA6;\n",
              "  }\n",
              "\n",
              "  [theme=dark] .colab-df-quickchart {\n",
              "    background-color: #3B4455;\n",
              "    fill: #D2E3FC;\n",
              "  }\n",
              "\n",
              "  [theme=dark] .colab-df-quickchart:hover {\n",
              "    background-color: #434B5C;\n",
              "    box-shadow: 0px 1px 3px 1px rgba(0, 0, 0, 0.15);\n",
              "    filter: drop-shadow(0px 1px 2px rgba(0, 0, 0, 0.3));\n",
              "    fill: #FFFFFF;\n",
              "  }\n",
              "</style>\n",
              "\n",
              "    <script>\n",
              "      async function quickchart(key) {\n",
              "        const containerElement = document.querySelector('#' + key);\n",
              "        const charts = await google.colab.kernel.invokeFunction(\n",
              "            'suggestCharts', [key], {});\n",
              "      }\n",
              "    </script>\n",
              "\n",
              "      <script>\n",
              "\n",
              "function displayQuickchartButton(domScope) {\n",
              "  let quickchartButtonEl =\n",
              "    domScope.querySelector('#df-6e8852a3-c231-4b9e-92fd-62a66be1b2de button.colab-df-quickchart');\n",
              "  quickchartButtonEl.style.display =\n",
              "    google.colab.kernel.accessAllowed ? 'block' : 'none';\n",
              "}\n",
              "\n",
              "        displayQuickchartButton(document);\n",
              "      </script>\n",
              "      <style>\n",
              "    .colab-df-container {\n",
              "      display:flex;\n",
              "      flex-wrap:wrap;\n",
              "      gap: 12px;\n",
              "    }\n",
              "\n",
              "    .colab-df-convert {\n",
              "      background-color: #E8F0FE;\n",
              "      border: none;\n",
              "      border-radius: 50%;\n",
              "      cursor: pointer;\n",
              "      display: none;\n",
              "      fill: #1967D2;\n",
              "      height: 32px;\n",
              "      padding: 0 0 0 0;\n",
              "      width: 32px;\n",
              "    }\n",
              "\n",
              "    .colab-df-convert:hover {\n",
              "      background-color: #E2EBFA;\n",
              "      box-shadow: 0px 1px 2px rgba(60, 64, 67, 0.3), 0px 1px 3px 1px rgba(60, 64, 67, 0.15);\n",
              "      fill: #174EA6;\n",
              "    }\n",
              "\n",
              "    [theme=dark] .colab-df-convert {\n",
              "      background-color: #3B4455;\n",
              "      fill: #D2E3FC;\n",
              "    }\n",
              "\n",
              "    [theme=dark] .colab-df-convert:hover {\n",
              "      background-color: #434B5C;\n",
              "      box-shadow: 0px 1px 3px 1px rgba(0, 0, 0, 0.15);\n",
              "      filter: drop-shadow(0px 1px 2px rgba(0, 0, 0, 0.3));\n",
              "      fill: #FFFFFF;\n",
              "    }\n",
              "  </style>\n",
              "\n",
              "      <script>\n",
              "        const buttonEl =\n",
              "          document.querySelector('#df-7ff61c44-6cf3-4fa5-8673-87b713b2042f button.colab-df-convert');\n",
              "        buttonEl.style.display =\n",
              "          google.colab.kernel.accessAllowed ? 'block' : 'none';\n",
              "\n",
              "        async function convertToInteractive(key) {\n",
              "          const element = document.querySelector('#df-7ff61c44-6cf3-4fa5-8673-87b713b2042f');\n",
              "          const dataTable =\n",
              "            await google.colab.kernel.invokeFunction('convertToInteractive',\n",
              "                                                     [key], {});\n",
              "          if (!dataTable) return;\n",
              "\n",
              "          const docLinkHtml = 'Like what you see? Visit the ' +\n",
              "            '<a target=\"_blank\" href=https://colab.research.google.com/notebooks/data_table.ipynb>data table notebook</a>'\n",
              "            + ' to learn more about interactive tables.';\n",
              "          element.innerHTML = '';\n",
              "          dataTable['output_type'] = 'display_data';\n",
              "          await google.colab.output.renderOutput(dataTable, element);\n",
              "          const docLink = document.createElement('div');\n",
              "          docLink.innerHTML = docLinkHtml;\n",
              "          element.appendChild(docLink);\n",
              "        }\n",
              "      </script>\n",
              "    </div>\n",
              "  </div>\n"
            ]
          },
          "metadata": {},
          "execution_count": 7
        }
      ],
      "source": [
        "# Drop the 'trip' column from the DataFrame 'df_train'\n",
        "df_train.drop(['trip'],axis=1, inplace=True)\n",
        "df_train.head(5)"
      ]
    },
    {
      "cell_type": "code",
      "execution_count": null,
      "metadata": {
        "colab": {
          "base_uri": "https://localhost:8080/"
        },
        "id": "nuwJ5ZfW6rGg",
        "outputId": "20b3e1a4-4dcd-4133-a588-7a2e972d57e5"
      },
      "outputs": [
        {
          "output_type": "execute_result",
          "data": {
            "text/plain": [
              "night    25904\n",
              "day      13095\n",
              "Name: dayPart, dtype: int64"
            ]
          },
          "metadata": {},
          "execution_count": 8
        }
      ],
      "source": [
        "# Count the occurrences of each unique value in the 'dayPart' column of the DataFrame 'df_train'\n",
        "df_train['dayPart'].value_counts()"
      ]
    },
    {
      "cell_type": "code",
      "execution_count": null,
      "metadata": {
        "colab": {
          "base_uri": "https://localhost:8080/"
        },
        "id": "U4YHOfiJ65sc",
        "outputId": "597a8ff2-7efa-4989-a7d8-79f431da7c55"
      },
      "outputs": [
        {
          "output_type": "execute_result",
          "data": {
            "text/plain": [
              "date                       0\n",
              "dayPart                    0\n",
              "exWeatherTag           34117\n",
              "originLocation             0\n",
              "destinationLocation        0\n",
              "distance                   0\n",
              "type                   35251\n",
              "weight                     0\n",
              "packageType            36499\n",
              "carrier                    0\n",
              "cost                       0\n",
              "dtype: int64"
            ]
          },
          "metadata": {},
          "execution_count": 9
        }
      ],
      "source": [
        "# Count the number of missing (null) values in each column of the DataFrame 'df_train'\n",
        "df_train.isnull().sum()"
      ]
    },
    {
      "cell_type": "code",
      "execution_count": null,
      "metadata": {
        "id": "pygKKJfK6xpw"
      },
      "outputs": [],
      "source": [
        "# Extract the day, month, and year from the 'date' column and create separate columns for each\n",
        "# The 'date' column is assumed to be a datetime type in 'df_train'.\n",
        "\n",
        "df_train['day'] = df_train['date'].dt.day     # Create a new column 'day' containing the day component of the 'date' column\n",
        "df_train['month'] = df_train['date'].dt.month # Create a new column 'month' containing the month component of the 'date' column\n",
        "df_train['year'] = df_train['date'].dt.year   # Create a new column 'year' containing the year component of the 'date' column\n",
        "\n",
        "# Drop the 'date' column from the DataFrame 'df_train'\n",
        "# The 'date' column has been split into individual day, month, and year columns,\n",
        "# so we no longer need the original 'date' column in the DataFrame.\n",
        "\n",
        "df_train.drop('date', axis=1, inplace=True)   # Remove the 'date' column from 'df_train'\n"
      ]
    },
    {
      "cell_type": "code",
      "execution_count": null,
      "metadata": {
        "colab": {
          "base_uri": "https://localhost:8080/"
        },
        "id": "WU0bkYYs62cY",
        "outputId": "af27936a-7056-4c47-95d8-2e35de98313f"
      },
      "outputs": [
        {
          "output_type": "execute_result",
          "data": {
            "text/plain": [
              "array([nan, 'TT'], dtype=object)"
            ]
          },
          "metadata": {},
          "execution_count": 11
        }
      ],
      "source": [
        "# Get the unique values in the 'packageType' column of the DataFrame 'df_train'\n",
        "df_train['packageType'].unique()"
      ]
    },
    {
      "cell_type": "code",
      "execution_count": null,
      "metadata": {
        "colab": {
          "base_uri": "https://localhost:8080/"
        },
        "id": "y8AaldXw7Aon",
        "outputId": "4add6292-defa-4959-9d8a-4450bc58cef0"
      },
      "outputs": [
        {
          "output_type": "execute_result",
          "data": {
            "text/plain": [
              "array([nan, 'snow', 'heat'], dtype=object)"
            ]
          },
          "metadata": {},
          "execution_count": 12
        }
      ],
      "source": [
        "# Get the unique values in the 'exWeatherTag' column of the DataFrame 'df_train'\n",
        "df_train['exWeatherTag'].unique()"
      ]
    },
    {
      "cell_type": "code",
      "execution_count": null,
      "metadata": {
        "colab": {
          "base_uri": "https://localhost:8080/"
        },
        "id": "1L9Qscwx7CNB",
        "outputId": "4f5cca8c-5cbc-4834-9d99-7308f9ea866f"
      },
      "outputs": [
        {
          "output_type": "execute_result",
          "data": {
            "text/plain": [
              "array(['expedited', nan], dtype=object)"
            ]
          },
          "metadata": {},
          "execution_count": 13
        }
      ],
      "source": [
        "# Get the unique values in the 'type' column of the DataFrame 'df_train'\n",
        "df_train['type'].unique()"
      ]
    },
    {
      "cell_type": "code",
      "execution_count": null,
      "metadata": {
        "colab": {
          "base_uri": "https://localhost:8080/"
        },
        "id": "cx1rI1ml7Efo",
        "outputId": "42cded10-7482-4ad2-c713-3cc05d9ffe48"
      },
      "outputs": [
        {
          "output_type": "execute_result",
          "data": {
            "text/plain": [
              "2017    13066\n",
              "2018    13039\n",
              "2019    12894\n",
              "Name: year, dtype: int64"
            ]
          },
          "metadata": {},
          "execution_count": 14
        }
      ],
      "source": [
        "# Count the occurrences of each unique year in the 'year' column of the DataFrame 'df_train'\n",
        "df_train['year'].value_counts()"
      ]
    },
    {
      "cell_type": "code",
      "execution_count": null,
      "metadata": {
        "colab": {
          "base_uri": "https://localhost:8080/",
          "height": 270
        },
        "id": "61Ixk40G7Gxw",
        "outputId": "6ea3ad77-8aab-4dea-b693-3dcaafa96e61"
      },
      "outputs": [
        {
          "output_type": "execute_result",
          "data": {
            "text/plain": [
              "  dayPart exWeatherTag originLocation destinationLocation  distance  \\\n",
              "0   night      unknown             S4                  D7      2200   \n",
              "1   night      unknown             S8                  D1      1800   \n",
              "2   night      unknown             S9                  D5      2800   \n",
              "3     day      unknown             S9                  D7      3200   \n",
              "4     day         snow             S9                  D1      2000   \n",
              "\n",
              "        type  weight packageType carrier       cost  day  month  year  \n",
              "0  expedited      50     unknown       D  68.413152    6      9  2017  \n",
              "1    unknown      12     unknown       B  36.450649   21     10  2017  \n",
              "2    unknown       1     unknown       B   9.057939   15      7  2017  \n",
              "3    unknown      50     unknown       C  57.320087   22     10  2017  \n",
              "4    unknown      43     unknown       B  77.263777   11     12  2019  "
            ],
            "text/html": [
              "\n",
              "\n",
              "  <div id=\"df-6ef35f9d-88c2-40e8-b250-1dd03bd52cd2\">\n",
              "    <div class=\"colab-df-container\">\n",
              "      <div>\n",
              "<style scoped>\n",
              "    .dataframe tbody tr th:only-of-type {\n",
              "        vertical-align: middle;\n",
              "    }\n",
              "\n",
              "    .dataframe tbody tr th {\n",
              "        vertical-align: top;\n",
              "    }\n",
              "\n",
              "    .dataframe thead th {\n",
              "        text-align: right;\n",
              "    }\n",
              "</style>\n",
              "<table border=\"1\" class=\"dataframe\">\n",
              "  <thead>\n",
              "    <tr style=\"text-align: right;\">\n",
              "      <th></th>\n",
              "      <th>dayPart</th>\n",
              "      <th>exWeatherTag</th>\n",
              "      <th>originLocation</th>\n",
              "      <th>destinationLocation</th>\n",
              "      <th>distance</th>\n",
              "      <th>type</th>\n",
              "      <th>weight</th>\n",
              "      <th>packageType</th>\n",
              "      <th>carrier</th>\n",
              "      <th>cost</th>\n",
              "      <th>day</th>\n",
              "      <th>month</th>\n",
              "      <th>year</th>\n",
              "    </tr>\n",
              "  </thead>\n",
              "  <tbody>\n",
              "    <tr>\n",
              "      <th>0</th>\n",
              "      <td>night</td>\n",
              "      <td>unknown</td>\n",
              "      <td>S4</td>\n",
              "      <td>D7</td>\n",
              "      <td>2200</td>\n",
              "      <td>expedited</td>\n",
              "      <td>50</td>\n",
              "      <td>unknown</td>\n",
              "      <td>D</td>\n",
              "      <td>68.413152</td>\n",
              "      <td>6</td>\n",
              "      <td>9</td>\n",
              "      <td>2017</td>\n",
              "    </tr>\n",
              "    <tr>\n",
              "      <th>1</th>\n",
              "      <td>night</td>\n",
              "      <td>unknown</td>\n",
              "      <td>S8</td>\n",
              "      <td>D1</td>\n",
              "      <td>1800</td>\n",
              "      <td>unknown</td>\n",
              "      <td>12</td>\n",
              "      <td>unknown</td>\n",
              "      <td>B</td>\n",
              "      <td>36.450649</td>\n",
              "      <td>21</td>\n",
              "      <td>10</td>\n",
              "      <td>2017</td>\n",
              "    </tr>\n",
              "    <tr>\n",
              "      <th>2</th>\n",
              "      <td>night</td>\n",
              "      <td>unknown</td>\n",
              "      <td>S9</td>\n",
              "      <td>D5</td>\n",
              "      <td>2800</td>\n",
              "      <td>unknown</td>\n",
              "      <td>1</td>\n",
              "      <td>unknown</td>\n",
              "      <td>B</td>\n",
              "      <td>9.057939</td>\n",
              "      <td>15</td>\n",
              "      <td>7</td>\n",
              "      <td>2017</td>\n",
              "    </tr>\n",
              "    <tr>\n",
              "      <th>3</th>\n",
              "      <td>day</td>\n",
              "      <td>unknown</td>\n",
              "      <td>S9</td>\n",
              "      <td>D7</td>\n",
              "      <td>3200</td>\n",
              "      <td>unknown</td>\n",
              "      <td>50</td>\n",
              "      <td>unknown</td>\n",
              "      <td>C</td>\n",
              "      <td>57.320087</td>\n",
              "      <td>22</td>\n",
              "      <td>10</td>\n",
              "      <td>2017</td>\n",
              "    </tr>\n",
              "    <tr>\n",
              "      <th>4</th>\n",
              "      <td>day</td>\n",
              "      <td>snow</td>\n",
              "      <td>S9</td>\n",
              "      <td>D1</td>\n",
              "      <td>2000</td>\n",
              "      <td>unknown</td>\n",
              "      <td>43</td>\n",
              "      <td>unknown</td>\n",
              "      <td>B</td>\n",
              "      <td>77.263777</td>\n",
              "      <td>11</td>\n",
              "      <td>12</td>\n",
              "      <td>2019</td>\n",
              "    </tr>\n",
              "  </tbody>\n",
              "</table>\n",
              "</div>\n",
              "      <button class=\"colab-df-convert\" onclick=\"convertToInteractive('df-6ef35f9d-88c2-40e8-b250-1dd03bd52cd2')\"\n",
              "              title=\"Convert this dataframe to an interactive table.\"\n",
              "              style=\"display:none;\">\n",
              "\n",
              "  <svg xmlns=\"http://www.w3.org/2000/svg\" height=\"24px\"viewBox=\"0 0 24 24\"\n",
              "       width=\"24px\">\n",
              "    <path d=\"M0 0h24v24H0V0z\" fill=\"none\"/>\n",
              "    <path d=\"M18.56 5.44l.94 2.06.94-2.06 2.06-.94-2.06-.94-.94-2.06-.94 2.06-2.06.94zm-11 1L8.5 8.5l.94-2.06 2.06-.94-2.06-.94L8.5 2.5l-.94 2.06-2.06.94zm10 10l.94 2.06.94-2.06 2.06-.94-2.06-.94-.94-2.06-.94 2.06-2.06.94z\"/><path d=\"M17.41 7.96l-1.37-1.37c-.4-.4-.92-.59-1.43-.59-.52 0-1.04.2-1.43.59L10.3 9.45l-7.72 7.72c-.78.78-.78 2.05 0 2.83L4 21.41c.39.39.9.59 1.41.59.51 0 1.02-.2 1.41-.59l7.78-7.78 2.81-2.81c.8-.78.8-2.07 0-2.86zM5.41 20L4 18.59l7.72-7.72 1.47 1.35L5.41 20z\"/>\n",
              "  </svg>\n",
              "      </button>\n",
              "\n",
              "\n",
              "\n",
              "    <div id=\"df-460f029a-baa2-41cf-a2e3-92df1d570818\">\n",
              "      <button class=\"colab-df-quickchart\" onclick=\"quickchart('df-460f029a-baa2-41cf-a2e3-92df1d570818')\"\n",
              "              title=\"Suggest charts.\"\n",
              "              style=\"display:none;\">\n",
              "\n",
              "<svg xmlns=\"http://www.w3.org/2000/svg\" height=\"24px\"viewBox=\"0 0 24 24\"\n",
              "     width=\"24px\">\n",
              "    <g>\n",
              "        <path d=\"M19 3H5c-1.1 0-2 .9-2 2v14c0 1.1.9 2 2 2h14c1.1 0 2-.9 2-2V5c0-1.1-.9-2-2-2zM9 17H7v-7h2v7zm4 0h-2V7h2v10zm4 0h-2v-4h2v4z\"/>\n",
              "    </g>\n",
              "</svg>\n",
              "      </button>\n",
              "    </div>\n",
              "\n",
              "<style>\n",
              "  .colab-df-quickchart {\n",
              "    background-color: #E8F0FE;\n",
              "    border: none;\n",
              "    border-radius: 50%;\n",
              "    cursor: pointer;\n",
              "    display: none;\n",
              "    fill: #1967D2;\n",
              "    height: 32px;\n",
              "    padding: 0 0 0 0;\n",
              "    width: 32px;\n",
              "  }\n",
              "\n",
              "  .colab-df-quickchart:hover {\n",
              "    background-color: #E2EBFA;\n",
              "    box-shadow: 0px 1px 2px rgba(60, 64, 67, 0.3), 0px 1px 3px 1px rgba(60, 64, 67, 0.15);\n",
              "    fill: #174EA6;\n",
              "  }\n",
              "\n",
              "  [theme=dark] .colab-df-quickchart {\n",
              "    background-color: #3B4455;\n",
              "    fill: #D2E3FC;\n",
              "  }\n",
              "\n",
              "  [theme=dark] .colab-df-quickchart:hover {\n",
              "    background-color: #434B5C;\n",
              "    box-shadow: 0px 1px 3px 1px rgba(0, 0, 0, 0.15);\n",
              "    filter: drop-shadow(0px 1px 2px rgba(0, 0, 0, 0.3));\n",
              "    fill: #FFFFFF;\n",
              "  }\n",
              "</style>\n",
              "\n",
              "    <script>\n",
              "      async function quickchart(key) {\n",
              "        const containerElement = document.querySelector('#' + key);\n",
              "        const charts = await google.colab.kernel.invokeFunction(\n",
              "            'suggestCharts', [key], {});\n",
              "      }\n",
              "    </script>\n",
              "\n",
              "      <script>\n",
              "\n",
              "function displayQuickchartButton(domScope) {\n",
              "  let quickchartButtonEl =\n",
              "    domScope.querySelector('#df-460f029a-baa2-41cf-a2e3-92df1d570818 button.colab-df-quickchart');\n",
              "  quickchartButtonEl.style.display =\n",
              "    google.colab.kernel.accessAllowed ? 'block' : 'none';\n",
              "}\n",
              "\n",
              "        displayQuickchartButton(document);\n",
              "      </script>\n",
              "      <style>\n",
              "    .colab-df-container {\n",
              "      display:flex;\n",
              "      flex-wrap:wrap;\n",
              "      gap: 12px;\n",
              "    }\n",
              "\n",
              "    .colab-df-convert {\n",
              "      background-color: #E8F0FE;\n",
              "      border: none;\n",
              "      border-radius: 50%;\n",
              "      cursor: pointer;\n",
              "      display: none;\n",
              "      fill: #1967D2;\n",
              "      height: 32px;\n",
              "      padding: 0 0 0 0;\n",
              "      width: 32px;\n",
              "    }\n",
              "\n",
              "    .colab-df-convert:hover {\n",
              "      background-color: #E2EBFA;\n",
              "      box-shadow: 0px 1px 2px rgba(60, 64, 67, 0.3), 0px 1px 3px 1px rgba(60, 64, 67, 0.15);\n",
              "      fill: #174EA6;\n",
              "    }\n",
              "\n",
              "    [theme=dark] .colab-df-convert {\n",
              "      background-color: #3B4455;\n",
              "      fill: #D2E3FC;\n",
              "    }\n",
              "\n",
              "    [theme=dark] .colab-df-convert:hover {\n",
              "      background-color: #434B5C;\n",
              "      box-shadow: 0px 1px 3px 1px rgba(0, 0, 0, 0.15);\n",
              "      filter: drop-shadow(0px 1px 2px rgba(0, 0, 0, 0.3));\n",
              "      fill: #FFFFFF;\n",
              "    }\n",
              "  </style>\n",
              "\n",
              "      <script>\n",
              "        const buttonEl =\n",
              "          document.querySelector('#df-6ef35f9d-88c2-40e8-b250-1dd03bd52cd2 button.colab-df-convert');\n",
              "        buttonEl.style.display =\n",
              "          google.colab.kernel.accessAllowed ? 'block' : 'none';\n",
              "\n",
              "        async function convertToInteractive(key) {\n",
              "          const element = document.querySelector('#df-6ef35f9d-88c2-40e8-b250-1dd03bd52cd2');\n",
              "          const dataTable =\n",
              "            await google.colab.kernel.invokeFunction('convertToInteractive',\n",
              "                                                     [key], {});\n",
              "          if (!dataTable) return;\n",
              "\n",
              "          const docLinkHtml = 'Like what you see? Visit the ' +\n",
              "            '<a target=\"_blank\" href=https://colab.research.google.com/notebooks/data_table.ipynb>data table notebook</a>'\n",
              "            + ' to learn more about interactive tables.';\n",
              "          element.innerHTML = '';\n",
              "          dataTable['output_type'] = 'display_data';\n",
              "          await google.colab.output.renderOutput(dataTable, element);\n",
              "          const docLink = document.createElement('div');\n",
              "          docLink.innerHTML = docLinkHtml;\n",
              "          element.appendChild(docLink);\n",
              "        }\n",
              "      </script>\n",
              "    </div>\n",
              "  </div>\n"
            ]
          },
          "metadata": {},
          "execution_count": 15
        }
      ],
      "source": [
        "# Fill missing (NaN) values in the DataFrame 'df_train' with the string 'unknown'\n",
        "df_train.fillna('unknown', inplace = True)\n",
        "df_train.head(5)"
      ]
    },
    {
      "cell_type": "code",
      "execution_count": null,
      "metadata": {
        "colab": {
          "base_uri": "https://localhost:8080/"
        },
        "id": "amtenJF_7JCr",
        "outputId": "c6f5e437-df75-4f48-e927-1be1e418b20d"
      },
      "outputs": [
        {
          "output_type": "execute_result",
          "data": {
            "text/plain": [
              "unknown    34117\n",
              "snow        3286\n",
              "heat        1596\n",
              "Name: exWeatherTag, dtype: int64"
            ]
          },
          "metadata": {},
          "execution_count": 16
        }
      ],
      "source": [
        "# Count the occurrences of each unique 'exWeatherTag' in the DataFrame 'df_train'\n",
        "different_exWeatherTag_count = df_train['exWeatherTag'].value_counts()\n",
        "different_exWeatherTag_count"
      ]
    },
    {
      "cell_type": "markdown",
      "source": [
        "Since weather depends on the month we are grouping the month to see whether we can fill any missing value or not."
      ],
      "metadata": {
        "id": "Jw9-29jV3lGP"
      }
    },
    {
      "cell_type": "code",
      "execution_count": null,
      "metadata": {
        "colab": {
          "base_uri": "https://localhost:8080/"
        },
        "id": "QKJSz_227M05",
        "outputId": "a5b8471d-da49-485a-cea7-1bf6a9b32af6"
      },
      "outputs": [
        {
          "output_type": "execute_result",
          "data": {
            "text/plain": [
              "exWeatherTag  month\n",
              "heat          6        1596\n",
              "snow          12       3286\n",
              "unknown       1        3318\n",
              "              2        3057\n",
              "              3        3241\n",
              "              4        3255\n",
              "              5        3403\n",
              "              6        1679\n",
              "              7        3253\n",
              "              8        3228\n",
              "              9        3279\n",
              "              10       3215\n",
              "              11       3189\n",
              "dtype: int64"
            ]
          },
          "metadata": {},
          "execution_count": 17
        }
      ],
      "source": [
        "# Group the DataFrame 'df_train' by both 'exWeatherTag' and 'month', and calculate the size of each group\n",
        "grouping_month_table = df_train.groupby(['exWeatherTag', 'month']).size()\n",
        "grouping_month_table"
      ]
    },
    {
      "cell_type": "code",
      "execution_count": null,
      "metadata": {
        "colab": {
          "base_uri": "https://localhost:8080/",
          "height": 558
        },
        "id": "mXMOc_U67O4e",
        "outputId": "55ab9da8-2ff5-4fee-fd26-a7d941dbf34c"
      },
      "outputs": [
        {
          "output_type": "display_data",
          "data": {
            "text/plain": [
              "<Figure size 640x480 with 1 Axes>"
            ],
            "image/png": "[encoded data removed]"
          },
          "metadata": {}
        }
      ],
      "source": [
        "for category in grouping_month_table.index.levels[0]:\n",
        "  for income in grouping_month_table[category].index:\n",
        "    grouping_month_table[category][income] = grouping_month_table[category][income]\n",
        "# Plot the DataFrame 'grouping_month_table' as a stacked bar chart\n",
        "grouping_month_table.plot(kind = 'bar', stacked = True)\n",
        "\n",
        "# Set the y-axis label for the plot\n",
        "plt.ylabel('Percentage of Subscription Rate')\n",
        "\n",
        "# Set the title for the plot\n",
        "plt.title('Subscription Rate by Job Type')\n",
        "\n",
        "# Display the plot\n",
        "plt.show()"
      ]
    },
    {
      "cell_type": "markdown",
      "source": [
        "From the above bar graph we can see that there is a missing value as unknown as heat for the month 6.\n",
        "\n"
      ],
      "metadata": {
        "id": "ZITxP_T_359D"
      }
    },
    {
      "cell_type": "code",
      "execution_count": null,
      "metadata": {
        "colab": {
          "base_uri": "https://localhost:8080/"
        },
        "id": "DkOASQCJ7RK3",
        "outputId": "6787b061-aceb-4520-d768-edc8c4a113d7"
      },
      "outputs": [
        {
          "output_type": "execute_result",
          "data": {
            "text/plain": [
              "array(['snow'], dtype=object)"
            ]
          },
          "metadata": {},
          "execution_count": 19
        }
      ],
      "source": [
        "# Get the unique values in the 'exWeatherTag' column of the DataFrame 'df_train'\n",
        "df_train[df_train['month'] == 12]['exWeatherTag'].unique()"
      ]
    },
    {
      "cell_type": "code",
      "execution_count": null,
      "metadata": {
        "colab": {
          "base_uri": "https://localhost:8080/"
        },
        "id": "guRZHfwu7SyN",
        "outputId": "6afdd605-4c2d-4985-b065-cfde57e1f1f8"
      },
      "outputs": [
        {
          "output_type": "execute_result",
          "data": {
            "text/plain": [
              "array(['heat', 'unknown'], dtype=object)"
            ]
          },
          "metadata": {},
          "execution_count": 20
        }
      ],
      "source": [
        "# Get the unique values in the 'exWeatherTag' column of the DataFrame 'df_train'\n",
        "df_train[df_train['month'] == 6]['exWeatherTag'].unique()"
      ]
    },
    {
      "cell_type": "markdown",
      "source": [
        "Since both unknown and heat are there for 6 month so it will be same weather for whole month."
      ],
      "metadata": {
        "id": "shlPi3lO4Lk-"
      }
    },
    {
      "cell_type": "code",
      "execution_count": null,
      "metadata": {
        "colab": {
          "base_uri": "https://localhost:8080/"
        },
        "id": "_lR78kXL7UaE",
        "outputId": "f6261076-a580-4a36-dc96-8d4e787eba4e"
      },
      "outputs": [
        {
          "output_type": "execute_result",
          "data": {
            "text/plain": [
              "5        heat\n",
              "19       heat\n",
              "25       heat\n",
              "37       heat\n",
              "50       heat\n",
              "         ... \n",
              "38946    heat\n",
              "38962    heat\n",
              "38977    heat\n",
              "38990    heat\n",
              "38991    heat\n",
              "Name: exWeatherTag, Length: 3275, dtype: object"
            ]
          },
          "metadata": {},
          "execution_count": 21
        }
      ],
      "source": [
        "# Replace occurrences of 'unknown' in the 'exWeatherTag' column of the DataFrame 'df_train'\n",
        "df_train[df_train['month'] == 6]['exWeatherTag'].replace('unknown', 'heat')"
      ]
    },
    {
      "cell_type": "code",
      "execution_count": null,
      "metadata": {
        "colab": {
          "base_uri": "https://localhost:8080/"
        },
        "id": "XIW1Zw2u7WUC",
        "outputId": "637b8fbc-12e3-45b7-cb0c-92e02aa685e6"
      },
      "outputs": [
        {
          "output_type": "execute_result",
          "data": {
            "text/plain": [
              "2000    4436\n",
              "2200    3840\n",
              "1800    3792\n",
              "2400    3459\n",
              "1600    3347\n",
              "2600    2899\n",
              "1400    2889\n",
              "2800    2379\n",
              "1200    2364\n",
              "3000    1965\n",
              "1000    1892\n",
              "3200    1402\n",
              "800     1401\n",
              "600      999\n",
              "3400     988\n",
              "3600     482\n",
              "400      465\n",
              "Name: distance, dtype: int64"
            ]
          },
          "metadata": {},
          "execution_count": 22
        }
      ],
      "source": [
        "# Count the occurrences of each unique value in the 'distance' column of the DataFrame 'df_train'\n",
        "df_train.distance.value_counts()"
      ]
    },
    {
      "cell_type": "code",
      "execution_count": null,
      "metadata": {
        "colab": {
          "base_uri": "https://localhost:8080/",
          "height": 493
        },
        "id": "BYXyyIDJ7cJs",
        "outputId": "3d97c2ea-d498-4e55-94ac-9452ec500462"
      },
      "outputs": [
        {
          "output_type": "display_data",
          "data": {
            "text/plain": [
              "<Figure size 640x480 with 1 Axes>"
            ],
            "image/png": "[encoded data removed]"
          },
          "metadata": {}
        }
      ],
      "source": [
        "# Count the occurrences of each unique value in the 'distance' column of the DataFrame 'df_train'\n",
        "# Plot the 'distance_counts' Series as a bar chart\n",
        "df_train.distance.value_counts().plot(kind='bar')\n",
        "\n",
        "# Set the x-axis label for the plot\n",
        "plt.xlabel('Distance')\n",
        "# Set the y-axis label for the plot\n",
        "plt.ylabel('Count')\n",
        "# Set the title for the plot\n",
        "plt.title('Number of Different distance covered')\n",
        "# Display the plot\n",
        "plt.show()\n"
      ]
    },
    {
      "cell_type": "code",
      "execution_count": null,
      "metadata": {
        "colab": {
          "base_uri": "https://localhost:8080/",
          "height": 430
        },
        "id": "hA9u0Exx7lBf",
        "outputId": "0e56d982-f6e8-4f27-e9ab-c406aeb01075"
      },
      "outputs": [
        {
          "output_type": "display_data",
          "data": {
            "text/plain": [
              "<Figure size 640x480 with 1 Axes>"
            ],
            "image/png": "[encoded data removed]"
          },
          "metadata": {}
        }
      ],
      "source": [
        "# Create a box plot to visualize the distribution of distances in the 'distance' column of the DataFrame 'df_train'\n",
        "plt.boxplot(df_train['distance'], vert = False)\n",
        "plt.show()"
      ]
    },
    {
      "cell_type": "code",
      "execution_count": null,
      "metadata": {
        "colab": {
          "base_uri": "https://localhost:8080/",
          "height": 472
        },
        "id": "FVMULXr_AO2T",
        "outputId": "79f688f2-2886-43e2-fa4c-d1cd95d5a429"
      },
      "outputs": [
        {
          "output_type": "display_data",
          "data": {
            "text/plain": [
              "<Figure size 640x480 with 1 Axes>"
            ],
            "image/png": "[encoded data removed]"
          },
          "metadata": {}
        }
      ],
      "source": [
        "# Create a count plot to visualize the frequency of each unique value in the 'originLocation' column of the DataFrame 'df_train'\n",
        "sns.countplot(x=df_train['originLocation'])\n",
        "# Set the title for the plot\n",
        "plt.title('Count graph for the Origin Location of the data')\n",
        "plt.show()"
      ]
    },
    {
      "cell_type": "code",
      "execution_count": null,
      "metadata": {
        "colab": {
          "base_uri": "https://localhost:8080/"
        },
        "id": "iBvboBv2AUQ-",
        "outputId": "2df8914b-4f27-47d3-adec-5bbfd7b5d05d"
      },
      "outputs": [
        {
          "output_type": "execute_result",
          "data": {
            "text/plain": [
              "3    4461\n",
              "5    4388\n",
              "6    4379\n",
              "8    4368\n",
              "4    4324\n",
              "1    4312\n",
              "9    4302\n",
              "7    4267\n",
              "2    4198\n",
              "Name: originLocation, dtype: int64"
            ]
          },
          "metadata": {},
          "execution_count": 26
        }
      ],
      "source": [
        "# Remove the character 'S' from the 'originLocation' column of the DataFrame 'df_train' and convert the values to integers\n",
        "df_train['originLocation'] = df_train['originLocation'].str.replace(r'S', '').astype(int)\n",
        "df_train['originLocation'].value_counts()"
      ]
    },
    {
      "cell_type": "code",
      "execution_count": null,
      "metadata": {
        "colab": {
          "base_uri": "https://localhost:8080/",
          "height": 447
        },
        "id": "zFDf92zbAWgM",
        "outputId": "08665fdd-e965-460b-9447-1d1b4be1a05f"
      },
      "outputs": [
        {
          "output_type": "execute_result",
          "data": {
            "text/plain": [
              "<matplotlib.legend.Legend at 0x7a3f45cd75b0>"
            ]
          },
          "metadata": {},
          "execution_count": 27
        },
        {
          "output_type": "display_data",
          "data": {
            "text/plain": [
              "<Figure size 640x480 with 1 Axes>"
            ],
            "image/png": "[encoded data removed]"
          },
          "metadata": {}
        }
      ],
      "source": [
        "# Create a scatter plot to visualize the relationship between 'originLocation' and 'cost' columns of the DataFrame 'df_train'\n",
        "plt.scatter(df_train['originLocation'], df_train['cost'], c = df_train['weight'])\n",
        "plt.legend(labels=df_train['weight'])"
      ]
    },
    {
      "cell_type": "code",
      "execution_count": null,
      "metadata": {
        "colab": {
          "base_uri": "https://localhost:8080/",
          "height": 113
        },
        "id": "SI3w94fZAtr9",
        "outputId": "9fdb610e-f9a7-4ebb-a7fd-c298e8814f64"
      },
      "outputs": [
        {
          "output_type": "execute_result",
          "data": {
            "text/plain": [
              "Empty DataFrame\n",
              "Columns: [dayPart, exWeatherTag, originLocation, destinationLocation, distance, type, weight, packageType, carrier, cost, day, month, year]\n",
              "Index: []"
            ],
            "text/html": [
              "\n",
              "\n",
              "  <div id=\"df-631d8fec-77c0-4dd0-9c60-b0a23496eb02\">\n",
              "    <div class=\"colab-df-container\">\n",
              "      <div>\n",
              "<style scoped>\n",
              "    .dataframe tbody tr th:only-of-type {\n",
              "        vertical-align: middle;\n",
              "    }\n",
              "\n",
              "    .dataframe tbody tr th {\n",
              "        vertical-align: top;\n",
              "    }\n",
              "\n",
              "    .dataframe thead th {\n",
              "        text-align: right;\n",
              "    }\n",
              "</style>\n",
              "<table border=\"1\" class=\"dataframe\">\n",
              "  <thead>\n",
              "    <tr style=\"text-align: right;\">\n",
              "      <th></th>\n",
              "      <th>dayPart</th>\n",
              "      <th>exWeatherTag</th>\n",
              "      <th>originLocation</th>\n",
              "      <th>destinationLocation</th>\n",
              "      <th>distance</th>\n",
              "      <th>type</th>\n",
              "      <th>weight</th>\n",
              "      <th>packageType</th>\n",
              "      <th>carrier</th>\n",
              "      <th>cost</th>\n",
              "      <th>day</th>\n",
              "      <th>month</th>\n",
              "      <th>year</th>\n",
              "    </tr>\n",
              "  </thead>\n",
              "  <tbody>\n",
              "  </tbody>\n",
              "</table>\n",
              "</div>\n",
              "      <button class=\"colab-df-convert\" onclick=\"convertToInteractive('df-631d8fec-77c0-4dd0-9c60-b0a23496eb02')\"\n",
              "              title=\"Convert this dataframe to an interactive table.\"\n",
              "              style=\"display:none;\">\n",
              "\n",
              "  <svg xmlns=\"http://www.w3.org/2000/svg\" height=\"24px\"viewBox=\"0 0 24 24\"\n",
              "       width=\"24px\">\n",
              "    <path d=\"M0 0h24v24H0V0z\" fill=\"none\"/>\n",
              "    <path d=\"M18.56 5.44l.94 2.06.94-2.06 2.06-.94-2.06-.94-.94-2.06-.94 2.06-2.06.94zm-11 1L8.5 8.5l.94-2.06 2.06-.94-2.06-.94L8.5 2.5l-.94 2.06-2.06.94zm10 10l.94 2.06.94-2.06 2.06-.94-2.06-.94-.94-2.06-.94 2.06-2.06.94z\"/><path d=\"M17.41 7.96l-1.37-1.37c-.4-.4-.92-.59-1.43-.59-.52 0-1.04.2-1.43.59L10.3 9.45l-7.72 7.72c-.78.78-.78 2.05 0 2.83L4 21.41c.39.39.9.59 1.41.59.51 0 1.02-.2 1.41-.59l7.78-7.78 2.81-2.81c.8-.78.8-2.07 0-2.86zM5.41 20L4 18.59l7.72-7.72 1.47 1.35L5.41 20z\"/>\n",
              "  </svg>\n",
              "      </button>\n",
              "\n",
              "\n",
              "\n",
              "    <div id=\"df-90815a55-6278-4798-8b4e-1cb4dd76c7c0\">\n",
              "      <button class=\"colab-df-quickchart\" onclick=\"quickchart('df-90815a55-6278-4798-8b4e-1cb4dd76c7c0')\"\n",
              "              title=\"Suggest charts.\"\n",
              "              style=\"display:none;\">\n",
              "\n",
              "<svg xmlns=\"http://www.w3.org/2000/svg\" height=\"24px\"viewBox=\"0 0 24 24\"\n",
              "     width=\"24px\">\n",
              "    <g>\n",
              "        <path d=\"M19 3H5c-1.1 0-2 .9-2 2v14c0 1.1.9 2 2 2h14c1.1 0 2-.9 2-2V5c0-1.1-.9-2-2-2zM9 17H7v-7h2v7zm4 0h-2V7h2v10zm4 0h-2v-4h2v4z\"/>\n",
              "    </g>\n",
              "</svg>\n",
              "      </button>\n",
              "    </div>\n",
              "\n",
              "<style>\n",
              "  .colab-df-quickchart {\n",
              "    background-color: #E8F0FE;\n",
              "    border: none;\n",
              "    border-radius: 50%;\n",
              "    cursor: pointer;\n",
              "    display: none;\n",
              "    fill: #1967D2;\n",
              "    height: 32px;\n",
              "    padding: 0 0 0 0;\n",
              "    width: 32px;\n",
              "  }\n",
              "\n",
              "  .colab-df-quickchart:hover {\n",
              "    background-color: #E2EBFA;\n",
              "    box-shadow: 0px 1px 2px rgba(60, 64, 67, 0.3), 0px 1px 3px 1px rgba(60, 64, 67, 0.15);\n",
              "    fill: #174EA6;\n",
              "  }\n",
              "\n",
              "  [theme=dark] .colab-df-quickchart {\n",
              "    background-color: #3B4455;\n",
              "    fill: #D2E3FC;\n",
              "  }\n",
              "\n",
              "  [theme=dark] .colab-df-quickchart:hover {\n",
              "    background-color: #434B5C;\n",
              "    box-shadow: 0px 1px 3px 1px rgba(0, 0, 0, 0.15);\n",
              "    filter: drop-shadow(0px 1px 2px rgba(0, 0, 0, 0.3));\n",
              "    fill: #FFFFFF;\n",
              "  }\n",
              "</style>\n",
              "\n",
              "    <script>\n",
              "      async function quickchart(key) {\n",
              "        const containerElement = document.querySelector('#' + key);\n",
              "        const charts = await google.colab.kernel.invokeFunction(\n",
              "            'suggestCharts', [key], {});\n",
              "      }\n",
              "    </script>\n",
              "\n",
              "      <script>\n",
              "\n",
              "function displayQuickchartButton(domScope) {\n",
              "  let quickchartButtonEl =\n",
              "    domScope.querySelector('#df-90815a55-6278-4798-8b4e-1cb4dd76c7c0 button.colab-df-quickchart');\n",
              "  quickchartButtonEl.style.display =\n",
              "    google.colab.kernel.accessAllowed ? 'block' : 'none';\n",
              "}\n",
              "\n",
              "        displayQuickchartButton(document);\n",
              "      </script>\n",
              "      <style>\n",
              "    .colab-df-container {\n",
              "      display:flex;\n",
              "      flex-wrap:wrap;\n",
              "      gap: 12px;\n",
              "    }\n",
              "\n",
              "    .colab-df-convert {\n",
              "      background-color: #E8F0FE;\n",
              "      border: none;\n",
              "      border-radius: 50%;\n",
              "      cursor: pointer;\n",
              "      display: none;\n",
              "      fill: #1967D2;\n",
              "      height: 32px;\n",
              "      padding: 0 0 0 0;\n",
              "      width: 32px;\n",
              "    }\n",
              "\n",
              "    .colab-df-convert:hover {\n",
              "      background-color: #E2EBFA;\n",
              "      box-shadow: 0px 1px 2px rgba(60, 64, 67, 0.3), 0px 1px 3px 1px rgba(60, 64, 67, 0.15);\n",
              "      fill: #174EA6;\n",
              "    }\n",
              "\n",
              "    [theme=dark] .colab-df-convert {\n",
              "      background-color: #3B4455;\n",
              "      fill: #D2E3FC;\n",
              "    }\n",
              "\n",
              "    [theme=dark] .colab-df-convert:hover {\n",
              "      background-color: #434B5C;\n",
              "      box-shadow: 0px 1px 3px 1px rgba(0, 0, 0, 0.15);\n",
              "      filter: drop-shadow(0px 1px 2px rgba(0, 0, 0, 0.3));\n",
              "      fill: #FFFFFF;\n",
              "    }\n",
              "  </style>\n",
              "\n",
              "      <script>\n",
              "        const buttonEl =\n",
              "          document.querySelector('#df-631d8fec-77c0-4dd0-9c60-b0a23496eb02 button.colab-df-convert');\n",
              "        buttonEl.style.display =\n",
              "          google.colab.kernel.accessAllowed ? 'block' : 'none';\n",
              "\n",
              "        async function convertToInteractive(key) {\n",
              "          const element = document.querySelector('#df-631d8fec-77c0-4dd0-9c60-b0a23496eb02');\n",
              "          const dataTable =\n",
              "            await google.colab.kernel.invokeFunction('convertToInteractive',\n",
              "                                                     [key], {});\n",
              "          if (!dataTable) return;\n",
              "\n",
              "          const docLinkHtml = 'Like what you see? Visit the ' +\n",
              "            '<a target=\"_blank\" href=https://colab.research.google.com/notebooks/data_table.ipynb>data table notebook</a>'\n",
              "            + ' to learn more about interactive tables.';\n",
              "          element.innerHTML = '';\n",
              "          dataTable['output_type'] = 'display_data';\n",
              "          await google.colab.output.renderOutput(dataTable, element);\n",
              "          const docLink = document.createElement('div');\n",
              "          docLink.innerHTML = docLinkHtml;\n",
              "          element.appendChild(docLink);\n",
              "        }\n",
              "      </script>\n",
              "    </div>\n",
              "  </div>\n"
            ]
          },
          "metadata": {},
          "execution_count": 28
        }
      ],
      "source": [
        "# Filter the DataFrame 'df_train' to include only rows where the 'weight' column is greater than 1000\n",
        "df_train[df_train['weight']>1000]"
      ]
    },
    {
      "cell_type": "code",
      "execution_count": null,
      "metadata": {
        "colab": {
          "base_uri": "https://localhost:8080/"
        },
        "id": "FK6IRbQFAYjp",
        "outputId": "adb773c0-310d-4ba8-fecb-d6cc93bfe4f9"
      },
      "outputs": [
        {
          "output_type": "execute_result",
          "data": {
            "text/plain": [
              "Series([], dtype: int64)"
            ]
          },
          "metadata": {},
          "execution_count": 29
        }
      ],
      "source": [
        "# Filter the DataFrame 'df_train' to include only rows where the 'weight' column is greater than 1000\n",
        "df_train[df_train['weight']>1000].value_counts()"
      ]
    },
    {
      "cell_type": "code",
      "execution_count": null,
      "metadata": {
        "colab": {
          "base_uri": "https://localhost:8080/",
          "height": 523
        },
        "id": "T0t3XShOAyie",
        "outputId": "cadd3366-1c72-4b9c-ceac-7bf5f52c4bae"
      },
      "outputs": [
        {
          "output_type": "execute_result",
          "data": {
            "text/plain": [
              "<seaborn.axisgrid.FacetGrid at 0x7a3f45b8d570>"
            ]
          },
          "metadata": {},
          "execution_count": 30
        },
        {
          "output_type": "display_data",
          "data": {
            "text/plain": [
              "<Figure size 500x500 with 1 Axes>"
            ],
            "image/png": "[encoded data removed]"
          },
          "metadata": {}
        }
      ],
      "source": [
        "# Create a distribution plot to visualize the distribution of 'weight' values in the filtered subset of DataFrame 'df_train'\n",
        "sns.displot(df_train['weight'][(df_train['cost'] < 200) & (df_train['cost'] > 100)])"
      ]
    },
    {
      "cell_type": "code",
      "execution_count": null,
      "metadata": {
        "colab": {
          "base_uri": "https://localhost:8080/"
        },
        "id": "cieaTTP9A0ZE",
        "outputId": "6c64f675-552b-46b5-c336-fe3d26bcfc88"
      },
      "outputs": [
        {
          "output_type": "execute_result",
          "data": {
            "text/plain": [
              "(38471, 13)"
            ]
          },
          "metadata": {},
          "execution_count": 31
        }
      ],
      "source": [
        "# Drop rows from the DataFrame 'df_train' that have 'cost' values between 100 and 200\n",
        "df_train.drop(index=df_train.loc[(df_train['cost'] < 200) & (df_train['cost'] > 100)].index,inplace=True)\n",
        "df_train.shape"
      ]
    },
    {
      "cell_type": "code",
      "execution_count": null,
      "metadata": {
        "colab": {
          "base_uri": "https://localhost:8080/"
        },
        "id": "Mjlj0wkfA4OI",
        "outputId": "2d0e45c3-9a2e-4397-c79b-1082721b45be"
      },
      "outputs": [
        {
          "output_type": "execute_result",
          "data": {
            "text/plain": [
              "D8    4418\n",
              "D3    4334\n",
              "D9    4313\n",
              "D5    4289\n",
              "D2    4270\n",
              "D7    4235\n",
              "D6    4217\n",
              "D1    4215\n",
              "D4    4180\n",
              "Name: destinationLocation, dtype: int64"
            ]
          },
          "metadata": {},
          "execution_count": 32
        }
      ],
      "source": [
        "# Count the occurrences of each unique value in the 'destinationLocation' column of the DataFrame 'df_train'\n",
        "df_train['destinationLocation'].value_counts()"
      ]
    },
    {
      "cell_type": "code",
      "execution_count": null,
      "metadata": {
        "colab": {
          "base_uri": "https://localhost:8080/",
          "height": 489
        },
        "id": "w1hDDM0JA5XG",
        "outputId": "27928bf0-25c6-4b4b-ce9a-1b9a5ca118bd"
      },
      "outputs": [
        {
          "output_type": "execute_result",
          "data": {
            "text/plain": [
              "Text(0.5, 1.0, 'Count Plot of Destination Location')"
            ]
          },
          "metadata": {},
          "execution_count": 33
        },
        {
          "output_type": "display_data",
          "data": {
            "text/plain": [
              "<Figure size 640x480 with 1 Axes>"
            ],
            "image/png": "[encoded data removed]"
          },
          "metadata": {}
        }
      ],
      "source": [
        "# Create a count plot to visualize the frequency of each unique value in the 'destinationLocation' column of the DataFrame 'df_train'\n",
        "sns.countplot(x=df_train['destinationLocation'])\n",
        "plt.title(\"Count Plot of Destination Location\")"
      ]
    },
    {
      "cell_type": "code",
      "execution_count": null,
      "metadata": {
        "colab": {
          "base_uri": "https://localhost:8080/",
          "height": 270
        },
        "id": "G9fyZWN6A7C2",
        "outputId": "6f5d816f-a459-48a9-bd65-c5663cc3c4d7"
      },
      "outputs": [
        {
          "output_type": "execute_result",
          "data": {
            "text/plain": [
              "  dayPart exWeatherTag  originLocation  destinationLocation  distance  \\\n",
              "0   night      unknown               4                    7      2200   \n",
              "1   night      unknown               8                    1      1800   \n",
              "2   night      unknown               9                    5      2800   \n",
              "3     day      unknown               9                    7      3200   \n",
              "4     day         snow               9                    1      2000   \n",
              "\n",
              "        type  weight packageType carrier       cost  day  month  year  \n",
              "0  expedited      50     unknown       D  68.413152    6      9  2017  \n",
              "1    unknown      12     unknown       B  36.450649   21     10  2017  \n",
              "2    unknown       1     unknown       B   9.057939   15      7  2017  \n",
              "3    unknown      50     unknown       C  57.320087   22     10  2017  \n",
              "4    unknown      43     unknown       B  77.263777   11     12  2019  "
            ],
            "text/html": [
              "\n",
              "\n",
              "  <div id=\"df-753e853a-50a8-42cd-bded-bdc1e097e949\">\n",
              "    <div class=\"colab-df-container\">\n",
              "      <div>\n",
              "<style scoped>\n",
              "    .dataframe tbody tr th:only-of-type {\n",
              "        vertical-align: middle;\n",
              "    }\n",
              "\n",
              "    .dataframe tbody tr th {\n",
              "        vertical-align: top;\n",
              "    }\n",
              "\n",
              "    .dataframe thead th {\n",
              "        text-align: right;\n",
              "    }\n",
              "</style>\n",
              "<table border=\"1\" class=\"dataframe\">\n",
              "  <thead>\n",
              "    <tr style=\"text-align: right;\">\n",
              "      <th></th>\n",
              "      <th>dayPart</th>\n",
              "      <th>exWeatherTag</th>\n",
              "      <th>originLocation</th>\n",
              "      <th>destinationLocation</th>\n",
              "      <th>distance</th>\n",
              "      <th>type</th>\n",
              "      <th>weight</th>\n",
              "      <th>packageType</th>\n",
              "      <th>carrier</th>\n",
              "      <th>cost</th>\n",
              "      <th>day</th>\n",
              "      <th>month</th>\n",
              "      <th>year</th>\n",
              "    </tr>\n",
              "  </thead>\n",
              "  <tbody>\n",
              "    <tr>\n",
              "      <th>0</th>\n",
              "      <td>night</td>\n",
              "      <td>unknown</td>\n",
              "      <td>4</td>\n",
              "      <td>7</td>\n",
              "      <td>2200</td>\n",
              "      <td>expedited</td>\n",
              "      <td>50</td>\n",
              "      <td>unknown</td>\n",
              "      <td>D</td>\n",
              "      <td>68.413152</td>\n",
              "      <td>6</td>\n",
              "      <td>9</td>\n",
              "      <td>2017</td>\n",
              "    </tr>\n",
              "    <tr>\n",
              "      <th>1</th>\n",
              "      <td>night</td>\n",
              "      <td>unknown</td>\n",
              "      <td>8</td>\n",
              "      <td>1</td>\n",
              "      <td>1800</td>\n",
              "      <td>unknown</td>\n",
              "      <td>12</td>\n",
              "      <td>unknown</td>\n",
              "      <td>B</td>\n",
              "      <td>36.450649</td>\n",
              "      <td>21</td>\n",
              "      <td>10</td>\n",
              "      <td>2017</td>\n",
              "    </tr>\n",
              "    <tr>\n",
              "      <th>2</th>\n",
              "      <td>night</td>\n",
              "      <td>unknown</td>\n",
              "      <td>9</td>\n",
              "      <td>5</td>\n",
              "      <td>2800</td>\n",
              "      <td>unknown</td>\n",
              "      <td>1</td>\n",
              "      <td>unknown</td>\n",
              "      <td>B</td>\n",
              "      <td>9.057939</td>\n",
              "      <td>15</td>\n",
              "      <td>7</td>\n",
              "      <td>2017</td>\n",
              "    </tr>\n",
              "    <tr>\n",
              "      <th>3</th>\n",
              "      <td>day</td>\n",
              "      <td>unknown</td>\n",
              "      <td>9</td>\n",
              "      <td>7</td>\n",
              "      <td>3200</td>\n",
              "      <td>unknown</td>\n",
              "      <td>50</td>\n",
              "      <td>unknown</td>\n",
              "      <td>C</td>\n",
              "      <td>57.320087</td>\n",
              "      <td>22</td>\n",
              "      <td>10</td>\n",
              "      <td>2017</td>\n",
              "    </tr>\n",
              "    <tr>\n",
              "      <th>4</th>\n",
              "      <td>day</td>\n",
              "      <td>snow</td>\n",
              "      <td>9</td>\n",
              "      <td>1</td>\n",
              "      <td>2000</td>\n",
              "      <td>unknown</td>\n",
              "      <td>43</td>\n",
              "      <td>unknown</td>\n",
              "      <td>B</td>\n",
              "      <td>77.263777</td>\n",
              "      <td>11</td>\n",
              "      <td>12</td>\n",
              "      <td>2019</td>\n",
              "    </tr>\n",
              "  </tbody>\n",
              "</table>\n",
              "</div>\n",
              "      <button class=\"colab-df-convert\" onclick=\"convertToInteractive('df-753e853a-50a8-42cd-bded-bdc1e097e949')\"\n",
              "              title=\"Convert this dataframe to an interactive table.\"\n",
              "              style=\"display:none;\">\n",
              "\n",
              "  <svg xmlns=\"http://www.w3.org/2000/svg\" height=\"24px\"viewBox=\"0 0 24 24\"\n",
              "       width=\"24px\">\n",
              "    <path d=\"M0 0h24v24H0V0z\" fill=\"none\"/>\n",
              "    <path d=\"M18.56 5.44l.94 2.06.94-2.06 2.06-.94-2.06-.94-.94-2.06-.94 2.06-2.06.94zm-11 1L8.5 8.5l.94-2.06 2.06-.94-2.06-.94L8.5 2.5l-.94 2.06-2.06.94zm10 10l.94 2.06.94-2.06 2.06-.94-2.06-.94-.94-2.06-.94 2.06-2.06.94z\"/><path d=\"M17.41 7.96l-1.37-1.37c-.4-.4-.92-.59-1.43-.59-.52 0-1.04.2-1.43.59L10.3 9.45l-7.72 7.72c-.78.78-.78 2.05 0 2.83L4 21.41c.39.39.9.59 1.41.59.51 0 1.02-.2 1.41-.59l7.78-7.78 2.81-2.81c.8-.78.8-2.07 0-2.86zM5.41 20L4 18.59l7.72-7.72 1.47 1.35L5.41 20z\"/>\n",
              "  </svg>\n",
              "      </button>\n",
              "\n",
              "\n",
              "\n",
              "    <div id=\"df-41f517df-6144-40a6-9e84-3d5843d2a7a9\">\n",
              "      <button class=\"colab-df-quickchart\" onclick=\"quickchart('df-41f517df-6144-40a6-9e84-3d5843d2a7a9')\"\n",
              "              title=\"Suggest charts.\"\n",
              "              style=\"display:none;\">\n",
              "\n",
              "<svg xmlns=\"http://www.w3.org/2000/svg\" height=\"24px\"viewBox=\"0 0 24 24\"\n",
              "     width=\"24px\">\n",
              "    <g>\n",
              "        <path d=\"M19 3H5c-1.1 0-2 .9-2 2v14c0 1.1.9 2 2 2h14c1.1 0 2-.9 2-2V5c0-1.1-.9-2-2-2zM9 17H7v-7h2v7zm4 0h-2V7h2v10zm4 0h-2v-4h2v4z\"/>\n",
              "    </g>\n",
              "</svg>\n",
              "      </button>\n",
              "    </div>\n",
              "\n",
              "<style>\n",
              "  .colab-df-quickchart {\n",
              "    background-color: #E8F0FE;\n",
              "    border: none;\n",
              "    border-radius: 50%;\n",
              "    cursor: pointer;\n",
              "    display: none;\n",
              "    fill: #1967D2;\n",
              "    height: 32px;\n",
              "    padding: 0 0 0 0;\n",
              "    width: 32px;\n",
              "  }\n",
              "\n",
              "  .colab-df-quickchart:hover {\n",
              "    background-color: #E2EBFA;\n",
              "    box-shadow: 0px 1px 2px rgba(60, 64, 67, 0.3), 0px 1px 3px 1px rgba(60, 64, 67, 0.15);\n",
              "    fill: #174EA6;\n",
              "  }\n",
              "\n",
              "  [theme=dark] .colab-df-quickchart {\n",
              "    background-color: #3B4455;\n",
              "    fill: #D2E3FC;\n",
              "  }\n",
              "\n",
              "  [theme=dark] .colab-df-quickchart:hover {\n",
              "    background-color: #434B5C;\n",
              "    box-shadow: 0px 1px 3px 1px rgba(0, 0, 0, 0.15);\n",
              "    filter: drop-shadow(0px 1px 2px rgba(0, 0, 0, 0.3));\n",
              "    fill: #FFFFFF;\n",
              "  }\n",
              "</style>\n",
              "\n",
              "    <script>\n",
              "      async function quickchart(key) {\n",
              "        const containerElement = document.querySelector('#' + key);\n",
              "        const charts = await google.colab.kernel.invokeFunction(\n",
              "            'suggestCharts', [key], {});\n",
              "      }\n",
              "    </script>\n",
              "\n",
              "      <script>\n",
              "\n",
              "function displayQuickchartButton(domScope) {\n",
              "  let quickchartButtonEl =\n",
              "    domScope.querySelector('#df-41f517df-6144-40a6-9e84-3d5843d2a7a9 button.colab-df-quickchart');\n",
              "  quickchartButtonEl.style.display =\n",
              "    google.colab.kernel.accessAllowed ? 'block' : 'none';\n",
              "}\n",
              "\n",
              "        displayQuickchartButton(document);\n",
              "      </script>\n",
              "      <style>\n",
              "    .colab-df-container {\n",
              "      display:flex;\n",
              "      flex-wrap:wrap;\n",
              "      gap: 12px;\n",
              "    }\n",
              "\n",
              "    .colab-df-convert {\n",
              "      background-color: #E8F0FE;\n",
              "      border: none;\n",
              "      border-radius: 50%;\n",
              "      cursor: pointer;\n",
              "      display: none;\n",
              "      fill: #1967D2;\n",
              "      height: 32px;\n",
              "      padding: 0 0 0 0;\n",
              "      width: 32px;\n",
              "    }\n",
              "\n",
              "    .colab-df-convert:hover {\n",
              "      background-color: #E2EBFA;\n",
              "      box-shadow: 0px 1px 2px rgba(60, 64, 67, 0.3), 0px 1px 3px 1px rgba(60, 64, 67, 0.15);\n",
              "      fill: #174EA6;\n",
              "    }\n",
              "\n",
              "    [theme=dark] .colab-df-convert {\n",
              "      background-color: #3B4455;\n",
              "      fill: #D2E3FC;\n",
              "    }\n",
              "\n",
              "    [theme=dark] .colab-df-convert:hover {\n",
              "      background-color: #434B5C;\n",
              "      box-shadow: 0px 1px 3px 1px rgba(0, 0, 0, 0.15);\n",
              "      filter: drop-shadow(0px 1px 2px rgba(0, 0, 0, 0.3));\n",
              "      fill: #FFFFFF;\n",
              "    }\n",
              "  </style>\n",
              "\n",
              "      <script>\n",
              "        const buttonEl =\n",
              "          document.querySelector('#df-753e853a-50a8-42cd-bded-bdc1e097e949 button.colab-df-convert');\n",
              "        buttonEl.style.display =\n",
              "          google.colab.kernel.accessAllowed ? 'block' : 'none';\n",
              "\n",
              "        async function convertToInteractive(key) {\n",
              "          const element = document.querySelector('#df-753e853a-50a8-42cd-bded-bdc1e097e949');\n",
              "          const dataTable =\n",
              "            await google.colab.kernel.invokeFunction('convertToInteractive',\n",
              "                                                     [key], {});\n",
              "          if (!dataTable) return;\n",
              "\n",
              "          const docLinkHtml = 'Like what you see? Visit the ' +\n",
              "            '<a target=\"_blank\" href=https://colab.research.google.com/notebooks/data_table.ipynb>data table notebook</a>'\n",
              "            + ' to learn more about interactive tables.';\n",
              "          element.innerHTML = '';\n",
              "          dataTable['output_type'] = 'display_data';\n",
              "          await google.colab.output.renderOutput(dataTable, element);\n",
              "          const docLink = document.createElement('div');\n",
              "          docLink.innerHTML = docLinkHtml;\n",
              "          element.appendChild(docLink);\n",
              "        }\n",
              "      </script>\n",
              "    </div>\n",
              "  </div>\n"
            ]
          },
          "metadata": {},
          "execution_count": 34
        }
      ],
      "source": [
        "# Remove the character 'D' from the 'destinationLocation' column of the DataFrame 'df_train' and convert the values to integers\n",
        "df_train['destinationLocation'] = df_train['destinationLocation'].str.replace(r'D', '').astype(int)\n",
        "df_train.head(5)"
      ]
    },
    {
      "cell_type": "code",
      "execution_count": null,
      "metadata": {
        "colab": {
          "base_uri": "https://localhost:8080/",
          "height": 469
        },
        "id": "J5RJQ13QA9dQ",
        "outputId": "b9d74920-6d8f-4cea-bcf4-2f45b8939a90"
      },
      "outputs": [
        {
          "output_type": "execute_result",
          "data": {
            "text/plain": [
              "Text(0, 0.5, 'Destination Location')"
            ]
          },
          "metadata": {},
          "execution_count": 35
        },
        {
          "output_type": "display_data",
          "data": {
            "text/plain": [
              "<Figure size 640x480 with 1 Axes>"
            ],
            "image/png": "[encoded data removed]"
          },
          "metadata": {}
        }
      ],
      "source": [
        "# Create a scatter plot to visualize the relationship between 'destinationLocation' and 'cost' columns of the DataFrame 'df_train'\n",
        "plt.scatter(df_train['destinationLocation'],df_train['cost'], c=df_train['weight'])\n",
        "# Set the title for the plot\n",
        "plt.title(\"Scatter plot of Destination Location and cost\")\n",
        "# Set the y-axis label for the plot\n",
        "plt.ylabel('Destination Location')"
      ]
    },
    {
      "cell_type": "code",
      "execution_count": null,
      "metadata": {
        "colab": {
          "base_uri": "https://localhost:8080/",
          "height": 466
        },
        "id": "i2EBZmRCBCNl",
        "outputId": "638337d5-e970-4020-824f-e9ba0396badc"
      },
      "outputs": [
        {
          "output_type": "execute_result",
          "data": {
            "text/plain": [
              "<Axes: xlabel='carrier', ylabel='count'>"
            ]
          },
          "metadata": {},
          "execution_count": 36
        },
        {
          "output_type": "display_data",
          "data": {
            "text/plain": [
              "<Figure size 640x480 with 1 Axes>"
            ],
            "image/png": "[encoded data removed]"
          },
          "metadata": {}
        }
      ],
      "source": [
        "# Create a count plot to visualize the frequency of each unique value in the 'carrier' column of the DataFrame 'df_train'\n",
        "sns.countplot(x=df_train['carrier'])"
      ]
    },
    {
      "cell_type": "code",
      "execution_count": null,
      "metadata": {
        "colab": {
          "base_uri": "https://localhost:8080/",
          "height": 447
        },
        "id": "DPnFodv1BEeZ",
        "outputId": "b8a80c94-3f76-4a1e-ebe5-2bc1ef455d82"
      },
      "outputs": [
        {
          "output_type": "execute_result",
          "data": {
            "text/plain": [
              "<matplotlib.collections.PathCollection at 0x7a3f459ca020>"
            ]
          },
          "metadata": {},
          "execution_count": 37
        },
        {
          "output_type": "display_data",
          "data": {
            "text/plain": [
              "<Figure size 640x480 with 1 Axes>"
            ],
            "image/png": "[encoded data removed]"
          },
          "metadata": {}
        }
      ],
      "source": [
        "# Map the categorical values in the 'carrier' column to numerical values and store the result in a new column 'carrier_number'\n",
        "# The 'apply()' function is used to apply a custom lambda function to each value in the 'carrier' column of the DataFrame 'df_train'.\n",
        "# The lambda function takes each 'x' value (carrier name) and maps it to a corresponding numerical value based on the specified conditions.\n",
        "# If the carrier name is 'A', it is mapped to 0. If it is 'B', it is mapped to 1. If it is 'C', it is mapped to 2. Otherwise, it is mapped to 3.\n",
        "# The resulting numerical values are stored in a new column 'carrier_number' in the DataFrame.\n",
        "df_train['carrier_number'] = df_train['carrier'].apply(lambda x:0 if x == 'A' else (1 if x== 'B' else(2 if x== 'C' else 3)))\n",
        "plt.scatter(df_train['carrier'], df_train['distance'], c = df_train['cost'],alpha = 1)"
      ]
    },
    {
      "cell_type": "code",
      "execution_count": null,
      "metadata": {
        "colab": {
          "base_uri": "https://localhost:8080/",
          "height": 447
        },
        "id": "feGhk88wBGjD",
        "outputId": "7562482a-e523-46b0-daef-e09210701953"
      },
      "outputs": [
        {
          "output_type": "execute_result",
          "data": {
            "text/plain": [
              "<matplotlib.collections.PathCollection at 0x7a3f4595bdf0>"
            ]
          },
          "metadata": {},
          "execution_count": 38
        },
        {
          "output_type": "display_data",
          "data": {
            "text/plain": [
              "<Figure size 640x480 with 1 Axes>"
            ],
            "image/png": "[encoded data removed]"
          },
          "metadata": {}
        }
      ],
      "source": [
        "# Create separate DataFrames for each carrier based on their 'carrier_number' value\n",
        "# The 'df_train[df_train['carrier_number'] == x]' expression filters the DataFrame 'df_train' to include only rows\n",
        "# where the 'carrier_number' column has a specific value 'x'. This creates separate DataFrames for each carrier category.\n",
        "df_carrier1= df_train[df_train['carrier_number'] == 1]\n",
        "df_carrier2= df_train[df_train['carrier_number'] == 2]\n",
        "df_carrier3= df_train[df_train['carrier_number'] == 3]\n",
        "df_carrier4= df_train[df_train['carrier_number'] == 4]\n",
        "\n",
        "plt.scatter(df_carrier1['distance'], df_carrier1['cost'],alpha=0.6)\n",
        "plt.scatter(df_carrier2['distance'], df_carrier2['cost'],alpha=0.6)\n",
        "plt.scatter(df_carrier3['distance'], df_carrier3['cost'],alpha=0.6)\n",
        "plt.scatter(df_carrier4['distance'], df_carrier4['cost'],alpha=0.6)\n"
      ]
    },
    {
      "cell_type": "code",
      "execution_count": null,
      "metadata": {
        "colab": {
          "base_uri": "https://localhost:8080/",
          "height": 447
        },
        "id": "tgLjgwBSBIiT",
        "outputId": "49c220dd-3c0c-4685-808a-ea32b000aa04"
      },
      "outputs": [
        {
          "output_type": "execute_result",
          "data": {
            "text/plain": [
              "<matplotlib.collections.PathCollection at 0x7a3f4588ec20>"
            ]
          },
          "metadata": {},
          "execution_count": 39
        },
        {
          "output_type": "display_data",
          "data": {
            "text/plain": [
              "<Figure size 640x480 with 1 Axes>"
            ],
            "image/png": "[encoded data removed]"
          },
          "metadata": {}
        }
      ],
      "source": [
        "# Create a scatter plot to visualize the relationship between 'carrier', 'weight', and 'cost' columns of the DataFrame 'df_train'\n",
        "plt.scatter(df_train['carrier'], df_train['weight'], c= df_train['cost'], alpha =0.6, s= 10)"
      ]
    },
    {
      "cell_type": "code",
      "execution_count": null,
      "metadata": {
        "colab": {
          "base_uri": "https://localhost:8080/",
          "height": 447
        },
        "id": "LdCuKccpBKSr",
        "outputId": "820fbe63-4ff1-4a42-b626-e500fd3ed3ff"
      },
      "outputs": [
        {
          "output_type": "execute_result",
          "data": {
            "text/plain": [
              "<matplotlib.collections.PathCollection at 0x7a3f458fa1d0>"
            ]
          },
          "metadata": {},
          "execution_count": 40
        },
        {
          "output_type": "display_data",
          "data": {
            "text/plain": [
              "<Figure size 640x480 with 1 Axes>"
            ],
            "image/png": "[encoded data removed]"
          },
          "metadata": {}
        }
      ],
      "source": [
        "# Create separate scatter plots to visualize the relationship between 'weight' and 'cost' for each carrier category\n",
        "# The scatter() function from the matplotlib.pyplot library is used to generate scatter plots for each carrier.\n",
        "plt.scatter(df_carrier1['weight'], df_carrier1['cost'], alpha=0.5)\n",
        "plt.scatter(df_carrier2['weight'], df_carrier2['cost'], alpha=0.5)\n",
        "plt.scatter(df_carrier3['weight'], df_carrier3['cost'], alpha=0.02)\n",
        "plt.scatter(df_carrier4['weight'], df_carrier4['cost'], alpha=0.02)"
      ]
    },
    {
      "cell_type": "code",
      "execution_count": null,
      "metadata": {
        "id": "JPgpbb4iBT1Z"
      },
      "outputs": [],
      "source": [
        "# Drop the 'carrier_number' column from the DataFrame 'df_train'\n",
        "df_train.drop(columns= ['carrier_number'], axis=1, inplace=True)"
      ]
    },
    {
      "cell_type": "code",
      "execution_count": null,
      "metadata": {
        "colab": {
          "base_uri": "https://localhost:8080/",
          "height": 487
        },
        "id": "Xkx4rqkyBVCf",
        "outputId": "0081893e-a1ab-4233-bebb-61c772f7f1c0"
      },
      "outputs": [
        {
          "output_type": "execute_result",
          "data": {
            "text/plain": [
              "      dayPart exWeatherTag  originLocation  destinationLocation  distance  \\\n",
              "0       night      unknown               4                    7      2200   \n",
              "1       night      unknown               8                    1      1800   \n",
              "2       night      unknown               9                    5      2800   \n",
              "3         day      unknown               9                    7      3200   \n",
              "4         day         snow               9                    1      2000   \n",
              "...       ...          ...             ...                  ...       ...   \n",
              "38994   night      unknown               3                    3      1200   \n",
              "38995   night      unknown               4                    6      2000   \n",
              "38996   night      unknown               8                    7      3000   \n",
              "38997   night      unknown               8                    5      2600   \n",
              "38998   night      unknown               8                    8      3200   \n",
              "\n",
              "            type  weight packageType carrier       cost  day  month  year  \n",
              "0      expedited      50     unknown       D  68.413152    6      9  2017  \n",
              "1        unknown      12     unknown       B  36.450649   21     10  2017  \n",
              "2        unknown       1     unknown       B   9.057939   15      7  2017  \n",
              "3        unknown      50     unknown       C  57.320087   22     10  2017  \n",
              "4        unknown      43     unknown       B  77.263777   11     12  2019  \n",
              "...          ...     ...         ...     ...        ...  ...    ...   ...  \n",
              "38994    unknown       3     unknown       B  14.987239   17     10  2019  \n",
              "38995    unknown       6     unknown       B  33.214738   23      1  2019  \n",
              "38996    unknown      24     unknown       B  45.172159    3     10  2018  \n",
              "38997    unknown      31     unknown       B  47.541427   26      2  2018  \n",
              "38998    unknown      36     unknown       B  68.054098   30      7  2017  \n",
              "\n",
              "[38471 rows x 13 columns]"
            ],
            "text/html": [
              "\n",
              "\n",
              "  <div id=\"df-71e36490-8023-40ab-82cf-c214612b8e4a\">\n",
              "    <div class=\"colab-df-container\">\n",
              "      <div>\n",
              "<style scoped>\n",
              "    .dataframe tbody tr th:only-of-type {\n",
              "        vertical-align: middle;\n",
              "    }\n",
              "\n",
              "    .dataframe tbody tr th {\n",
              "        vertical-align: top;\n",
              "    }\n",
              "\n",
              "    .dataframe thead th {\n",
              "        text-align: right;\n",
              "    }\n",
              "</style>\n",
              "<table border=\"1\" class=\"dataframe\">\n",
              "  <thead>\n",
              "    <tr style=\"text-align: right;\">\n",
              "      <th></th>\n",
              "      <th>dayPart</th>\n",
              "      <th>exWeatherTag</th>\n",
              "      <th>originLocation</th>\n",
              "      <th>destinationLocation</th>\n",
              "      <th>distance</th>\n",
              "      <th>type</th>\n",
              "      <th>weight</th>\n",
              "      <th>packageType</th>\n",
              "      <th>carrier</th>\n",
              "      <th>cost</th>\n",
              "      <th>day</th>\n",
              "      <th>month</th>\n",
              "      <th>year</th>\n",
              "    </tr>\n",
              "  </thead>\n",
              "  <tbody>\n",
              "    <tr>\n",
              "      <th>0</th>\n",
              "      <td>night</td>\n",
              "      <td>unknown</td>\n",
              "      <td>4</td>\n",
              "      <td>7</td>\n",
              "      <td>2200</td>\n",
              "      <td>expedited</td>\n",
              "      <td>50</td>\n",
              "      <td>unknown</td>\n",
              "      <td>D</td>\n",
              "      <td>68.413152</td>\n",
              "      <td>6</td>\n",
              "      <td>9</td>\n",
              "      <td>2017</td>\n",
              "    </tr>\n",
              "    <tr>\n",
              "      <th>1</th>\n",
              "      <td>night</td>\n",
              "      <td>unknown</td>\n",
              "      <td>8</td>\n",
              "      <td>1</td>\n",
              "      <td>1800</td>\n",
              "      <td>unknown</td>\n",
              "      <td>12</td>\n",
              "      <td>unknown</td>\n",
              "      <td>B</td>\n",
              "      <td>36.450649</td>\n",
              "      <td>21</td>\n",
              "      <td>10</td>\n",
              "      <td>2017</td>\n",
              "    </tr>\n",
              "    <tr>\n",
              "      <th>2</th>\n",
              "      <td>night</td>\n",
              "      <td>unknown</td>\n",
              "      <td>9</td>\n",
              "      <td>5</td>\n",
              "      <td>2800</td>\n",
              "      <td>unknown</td>\n",
              "      <td>1</td>\n",
              "      <td>unknown</td>\n",
              "      <td>B</td>\n",
              "      <td>9.057939</td>\n",
              "      <td>15</td>\n",
              "      <td>7</td>\n",
              "      <td>2017</td>\n",
              "    </tr>\n",
              "    <tr>\n",
              "      <th>3</th>\n",
              "      <td>day</td>\n",
              "      <td>unknown</td>\n",
              "      <td>9</td>\n",
              "      <td>7</td>\n",
              "      <td>3200</td>\n",
              "      <td>unknown</td>\n",
              "      <td>50</td>\n",
              "      <td>unknown</td>\n",
              "      <td>C</td>\n",
              "      <td>57.320087</td>\n",
              "      <td>22</td>\n",
              "      <td>10</td>\n",
              "      <td>2017</td>\n",
              "    </tr>\n",
              "    <tr>\n",
              "      <th>4</th>\n",
              "      <td>day</td>\n",
              "      <td>snow</td>\n",
              "      <td>9</td>\n",
              "      <td>1</td>\n",
              "      <td>2000</td>\n",
              "      <td>unknown</td>\n",
              "      <td>43</td>\n",
              "      <td>unknown</td>\n",
              "      <td>B</td>\n",
              "      <td>77.263777</td>\n",
              "      <td>11</td>\n",
              "      <td>12</td>\n",
              "      <td>2019</td>\n",
              "    </tr>\n",
              "    <tr>\n",
              "      <th>...</th>\n",
              "      <td>...</td>\n",
              "      <td>...</td>\n",
              "      <td>...</td>\n",
              "      <td>...</td>\n",
              "      <td>...</td>\n",
              "      <td>...</td>\n",
              "      <td>...</td>\n",
              "      <td>...</td>\n",
              "      <td>...</td>\n",
              "      <td>...</td>\n",
              "      <td>...</td>\n",
              "      <td>...</td>\n",
              "      <td>...</td>\n",
              "    </tr>\n",
              "    <tr>\n",
              "      <th>38994</th>\n",
              "      <td>night</td>\n",
              "      <td>unknown</td>\n",
              "      <td>3</td>\n",
              "      <td>3</td>\n",
              "      <td>1200</td>\n",
              "      <td>unknown</td>\n",
              "      <td>3</td>\n",
              "      <td>unknown</td>\n",
              "      <td>B</td>\n",
              "      <td>14.987239</td>\n",
              "      <td>17</td>\n",
              "      <td>10</td>\n",
              "      <td>2019</td>\n",
              "    </tr>\n",
              "    <tr>\n",
              "      <th>38995</th>\n",
              "      <td>night</td>\n",
              "      <td>unknown</td>\n",
              "      <td>4</td>\n",
              "      <td>6</td>\n",
              "      <td>2000</td>\n",
              "      <td>unknown</td>\n",
              "      <td>6</td>\n",
              "      <td>unknown</td>\n",
              "      <td>B</td>\n",
              "      <td>33.214738</td>\n",
              "      <td>23</td>\n",
              "      <td>1</td>\n",
              "      <td>2019</td>\n",
              "    </tr>\n",
              "    <tr>\n",
              "      <th>38996</th>\n",
              "      <td>night</td>\n",
              "      <td>unknown</td>\n",
              "      <td>8</td>\n",
              "      <td>7</td>\n",
              "      <td>3000</td>\n",
              "      <td>unknown</td>\n",
              "      <td>24</td>\n",
              "      <td>unknown</td>\n",
              "      <td>B</td>\n",
              "      <td>45.172159</td>\n",
              "      <td>3</td>\n",
              "      <td>10</td>\n",
              "      <td>2018</td>\n",
              "    </tr>\n",
              "    <tr>\n",
              "      <th>38997</th>\n",
              "      <td>night</td>\n",
              "      <td>unknown</td>\n",
              "      <td>8</td>\n",
              "      <td>5</td>\n",
              "      <td>2600</td>\n",
              "      <td>unknown</td>\n",
              "      <td>31</td>\n",
              "      <td>unknown</td>\n",
              "      <td>B</td>\n",
              "      <td>47.541427</td>\n",
              "      <td>26</td>\n",
              "      <td>2</td>\n",
              "      <td>2018</td>\n",
              "    </tr>\n",
              "    <tr>\n",
              "      <th>38998</th>\n",
              "      <td>night</td>\n",
              "      <td>unknown</td>\n",
              "      <td>8</td>\n",
              "      <td>8</td>\n",
              "      <td>3200</td>\n",
              "      <td>unknown</td>\n",
              "      <td>36</td>\n",
              "      <td>unknown</td>\n",
              "      <td>B</td>\n",
              "      <td>68.054098</td>\n",
              "      <td>30</td>\n",
              "      <td>7</td>\n",
              "      <td>2017</td>\n",
              "    </tr>\n",
              "  </tbody>\n",
              "</table>\n",
              "<p>38471 rows × 13 columns</p>\n",
              "</div>\n",
              "      <button class=\"colab-df-convert\" onclick=\"convertToInteractive('df-71e36490-8023-40ab-82cf-c214612b8e4a')\"\n",
              "              title=\"Convert this dataframe to an interactive table.\"\n",
              "              style=\"display:none;\">\n",
              "\n",
              "  <svg xmlns=\"http://www.w3.org/2000/svg\" height=\"24px\"viewBox=\"0 0 24 24\"\n",
              "       width=\"24px\">\n",
              "    <path d=\"M0 0h24v24H0V0z\" fill=\"none\"/>\n",
              "    <path d=\"M18.56 5.44l.94 2.06.94-2.06 2.06-.94-2.06-.94-.94-2.06-.94 2.06-2.06.94zm-11 1L8.5 8.5l.94-2.06 2.06-.94-2.06-.94L8.5 2.5l-.94 2.06-2.06.94zm10 10l.94 2.06.94-2.06 2.06-.94-2.06-.94-.94-2.06-.94 2.06-2.06.94z\"/><path d=\"M17.41 7.96l-1.37-1.37c-.4-.4-.92-.59-1.43-.59-.52 0-1.04.2-1.43.59L10.3 9.45l-7.72 7.72c-.78.78-.78 2.05 0 2.83L4 21.41c.39.39.9.59 1.41.59.51 0 1.02-.2 1.41-.59l7.78-7.78 2.81-2.81c.8-.78.8-2.07 0-2.86zM5.41 20L4 18.59l7.72-7.72 1.47 1.35L5.41 20z\"/>\n",
              "  </svg>\n",
              "      </button>\n",
              "\n",
              "\n",
              "\n",
              "    <div id=\"df-9f27c63f-cf79-4610-99f2-948ef5809185\">\n",
              "      <button class=\"colab-df-quickchart\" onclick=\"quickchart('df-9f27c63f-cf79-4610-99f2-948ef5809185')\"\n",
              "              title=\"Suggest charts.\"\n",
              "              style=\"display:none;\">\n",
              "\n",
              "<svg xmlns=\"http://www.w3.org/2000/svg\" height=\"24px\"viewBox=\"0 0 24 24\"\n",
              "     width=\"24px\">\n",
              "    <g>\n",
              "        <path d=\"M19 3H5c-1.1 0-2 .9-2 2v14c0 1.1.9 2 2 2h14c1.1 0 2-.9 2-2V5c0-1.1-.9-2-2-2zM9 17H7v-7h2v7zm4 0h-2V7h2v10zm4 0h-2v-4h2v4z\"/>\n",
              "    </g>\n",
              "</svg>\n",
              "      </button>\n",
              "    </div>\n",
              "\n",
              "<style>\n",
              "  .colab-df-quickchart {\n",
              "    background-color: #E8F0FE;\n",
              "    border: none;\n",
              "    border-radius: 50%;\n",
              "    cursor: pointer;\n",
              "    display: none;\n",
              "    fill: #1967D2;\n",
              "    height: 32px;\n",
              "    padding: 0 0 0 0;\n",
              "    width: 32px;\n",
              "  }\n",
              "\n",
              "  .colab-df-quickchart:hover {\n",
              "    background-color: #E2EBFA;\n",
              "    box-shadow: 0px 1px 2px rgba(60, 64, 67, 0.3), 0px 1px 3px 1px rgba(60, 64, 67, 0.15);\n",
              "    fill: #174EA6;\n",
              "  }\n",
              "\n",
              "  [theme=dark] .colab-df-quickchart {\n",
              "    background-color: #3B4455;\n",
              "    fill: #D2E3FC;\n",
              "  }\n",
              "\n",
              "  [theme=dark] .colab-df-quickchart:hover {\n",
              "    background-color: #434B5C;\n",
              "    box-shadow: 0px 1px 3px 1px rgba(0, 0, 0, 0.15);\n",
              "    filter: drop-shadow(0px 1px 2px rgba(0, 0, 0, 0.3));\n",
              "    fill: #FFFFFF;\n",
              "  }\n",
              "</style>\n",
              "\n",
              "    <script>\n",
              "      async function quickchart(key) {\n",
              "        const containerElement = document.querySelector('#' + key);\n",
              "        const charts = await google.colab.kernel.invokeFunction(\n",
              "            'suggestCharts', [key], {});\n",
              "      }\n",
              "    </script>\n",
              "\n",
              "      <script>\n",
              "\n",
              "function displayQuickchartButton(domScope) {\n",
              "  let quickchartButtonEl =\n",
              "    domScope.querySelector('#df-9f27c63f-cf79-4610-99f2-948ef5809185 button.colab-df-quickchart');\n",
              "  quickchartButtonEl.style.display =\n",
              "    google.colab.kernel.accessAllowed ? 'block' : 'none';\n",
              "}\n",
              "\n",
              "        displayQuickchartButton(document);\n",
              "      </script>\n",
              "      <style>\n",
              "    .colab-df-container {\n",
              "      display:flex;\n",
              "      flex-wrap:wrap;\n",
              "      gap: 12px;\n",
              "    }\n",
              "\n",
              "    .colab-df-convert {\n",
              "      background-color: #E8F0FE;\n",
              "      border: none;\n",
              "      border-radius: 50%;\n",
              "      cursor: pointer;\n",
              "      display: none;\n",
              "      fill: #1967D2;\n",
              "      height: 32px;\n",
              "      padding: 0 0 0 0;\n",
              "      width: 32px;\n",
              "    }\n",
              "\n",
              "    .colab-df-convert:hover {\n",
              "      background-color: #E2EBFA;\n",
              "      box-shadow: 0px 1px 2px rgba(60, 64, 67, 0.3), 0px 1px 3px 1px rgba(60, 64, 67, 0.15);\n",
              "      fill: #174EA6;\n",
              "    }\n",
              "\n",
              "    [theme=dark] .colab-df-convert {\n",
              "      background-color: #3B4455;\n",
              "      fill: #D2E3FC;\n",
              "    }\n",
              "\n",
              "    [theme=dark] .colab-df-convert:hover {\n",
              "      background-color: #434B5C;\n",
              "      box-shadow: 0px 1px 3px 1px rgba(0, 0, 0, 0.15);\n",
              "      filter: drop-shadow(0px 1px 2px rgba(0, 0, 0, 0.3));\n",
              "      fill: #FFFFFF;\n",
              "    }\n",
              "  </style>\n",
              "\n",
              "      <script>\n",
              "        const buttonEl =\n",
              "          document.querySelector('#df-71e36490-8023-40ab-82cf-c214612b8e4a button.colab-df-convert');\n",
              "        buttonEl.style.display =\n",
              "          google.colab.kernel.accessAllowed ? 'block' : 'none';\n",
              "\n",
              "        async function convertToInteractive(key) {\n",
              "          const element = document.querySelector('#df-71e36490-8023-40ab-82cf-c214612b8e4a');\n",
              "          const dataTable =\n",
              "            await google.colab.kernel.invokeFunction('convertToInteractive',\n",
              "                                                     [key], {});\n",
              "          if (!dataTable) return;\n",
              "\n",
              "          const docLinkHtml = 'Like what you see? Visit the ' +\n",
              "            '<a target=\"_blank\" href=https://colab.research.google.com/notebooks/data_table.ipynb>data table notebook</a>'\n",
              "            + ' to learn more about interactive tables.';\n",
              "          element.innerHTML = '';\n",
              "          dataTable['output_type'] = 'display_data';\n",
              "          await google.colab.output.renderOutput(dataTable, element);\n",
              "          const docLink = document.createElement('div');\n",
              "          docLink.innerHTML = docLinkHtml;\n",
              "          element.appendChild(docLink);\n",
              "        }\n",
              "      </script>\n",
              "    </div>\n",
              "  </div>\n"
            ]
          },
          "metadata": {},
          "execution_count": 42
        }
      ],
      "source": [
        "df_train"
      ]
    },
    {
      "cell_type": "markdown",
      "source": [
        "**Data Analysis using class**\n",
        "\n",
        "In the code below, we used the class name RegressionModel to with init function which will take different parameters like model_name, model, param_grid, pipeline, best_params best_estimatores and so on.\n",
        "\n",
        "We also choose the numeric and categorical features for the preprocessing using pipeline.\n",
        "\n",
        "Then we make the data prepare for training, data prepare for test, build the pipeline using the minmaxscaler, hypertuning using the GridSearchCv along with it's parameters. We create a function to evaluate model and to print the model.\n",
        "\n",
        "We used different regression model like linear regression, Random Forest regression, SVR and Gradient Boosting regression model."
      ],
      "metadata": {
        "id": "rnQbchQmrpaX"
      }
    },
    {
      "cell_type": "code",
      "execution_count": null,
      "metadata": {
        "colab": {
          "base_uri": "https://localhost:8080/"
        },
        "id": "LIQIq-QeDBs6",
        "outputId": "87e7ed37-816b-4534-bedf-5f5031c23d26"
      },
      "outputs": [
        {
          "output_type": "stream",
          "name": "stdout",
          "text": [
            "Fitting 5 folds for each of 2 candidates, totalling 10 fits\n",
            "Fitting 5 folds for each of 27 candidates, totalling 135 fits\n",
            "Fitting 5 folds for each of 27 candidates, totalling 135 fits\n",
            "Fitting 5 folds for each of 27 candidates, totalling 135 fits\n",
            "Model: Linear Regression\n",
            "Best Hyperparameters: {'regressor__fit_intercept': False}\n",
            "MSE: 4045.54\n",
            "RMSE: 63.60\n",
            "MAE: 39.17\n",
            "R2 Score: 0.87\n",
            "-----------------------\n",
            "Model: Random Forest Regressor\n",
            "Best Hyperparameters: {'regressor__max_depth': None, 'regressor__min_samples_split': 10, 'regressor__n_estimators': 100}\n",
            "MSE: 74.20\n",
            "RMSE: 8.61\n",
            "MAE: 2.95\n",
            "R2 Score: 1.00\n",
            "-----------------------\n",
            "Model: Support Vector Regressor\n",
            "Best Hyperparameters: {'regressor__C': 100, 'regressor__epsilon': 0.001, 'regressor__kernel': 'poly'}\n",
            "MSE: 508.34\n",
            "RMSE: 22.55\n",
            "MAE: 7.59\n",
            "R2 Score: 0.98\n",
            "-----------------------\n",
            "Model: Gradient Boosting Regressor\n",
            "Best Hyperparameters: {'regressor__learning_rate': 0.1, 'regressor__max_depth': 3, 'regressor__n_estimators': 100}\n",
            "MSE: 77.78\n",
            "RMSE: 8.82\n",
            "MAE: 3.06\n",
            "R2 Score: 1.00\n",
            "-----------------------\n"
          ]
        }
      ],
      "source": [
        "# Importing necessary libraries and modules for the regression model\n",
        "# Regression model libraries and evaluation metrics\n",
        "\n",
        "from sklearn.preprocessing import OneHotEncoder,MinMaxScaler\n",
        "from sklearn import preprocessing, neighbors\n",
        "from sklearn.model_selection import cross_validate\n",
        "from sklearn.linear_model import LinearRegression\n",
        "from sklearn.cluster import KMeans\n",
        "from sklearn.ensemble import RandomForestRegressor,AdaBoostRegressor\n",
        "from sklearn.model_selection import cross_val_predict\n",
        "from sklearn.metrics import roc_auc_score\n",
        "from sklearn.model_selection import GridSearchCV\n",
        "from pandas.api.types import is_numeric_dtype\n",
        "from sklearn.pipeline import Pipeline\n",
        "from sklearn.svm import SVR\n",
        "from sklearn.ensemble import GradientBoostingRegressor\n",
        "from sklearn.compose import ColumnTransformer\n",
        "from sklearn.metrics import mean_squared_error, mean_absolute_error, r2_score\n",
        "from sklearn.model_selection import train_test_split\n",
        "\n",
        "# Class definition for the RegressionModel\n",
        "class RegressionModel:\n",
        "    def __init__(self, model_name, model, param_grid):\n",
        "        self.model_name = model_name\n",
        "        self.model = model\n",
        "        self.param_grid = param_grid\n",
        "        self.pipeline = None\n",
        "        self.best_params_ = None\n",
        "        self.best_estimator_ = None\n",
        "        self.y_pred = None\n",
        "        self.mse = None\n",
        "        self.rmse = None\n",
        "        self.mae = None\n",
        "        self.r2 = None\n",
        "  # Lists to store the names of numeric and categorical features in the dataset\n",
        "        self.numeric_features = ['distance', 'weight', 'originLocation',\n",
        "                        'destinationLocation']\n",
        "        self.categorical_features = ['dayPart', 'exWeatherTag', 'type', 'packageType', 'carrier']\n",
        "\n",
        "  # Method to prepare data for training the model\n",
        "    def prepare_data(self, df_train):\n",
        "        columns = list(df_train.columns)\n",
        "        columns.remove('cost')   # 'cost' is the target variable\n",
        "\n",
        "        X = df_train[columns]\n",
        "        Y = df_train['cost'].astype(int)\n",
        "\n",
        "        return X, Y\n",
        "\n",
        "# Method to prepare data for testing the model\n",
        "    def prepare_test_data(self, df_test):\n",
        "        columns1 = list(df_test.columns)\n",
        "        X = df_test[columns1]\n",
        "        return X\n",
        "\n",
        "# Method to build the model pipeline with preprocessing steps and the chosen regression model\n",
        "# Similarly, use MinMaxScaler from sklearn.preprocessing to normalize the training and testing data, using the training data\n",
        "    def build_pipeline(self):\n",
        "        scaler = MinMaxScaler()\n",
        "        numeric_transformer = Pipeline(steps=[('scaler', scaler)])\n",
        "\n",
        "        preprocessor = ColumnTransformer(\n",
        "            transformers=[\n",
        "                ('num', numeric_transformer, self.numeric_features),\n",
        "                ('cat', OneHotEncoder(handle_unknown='ignore'), self.categorical_features)\n",
        "            ])\n",
        "\n",
        "        self.pipeline = Pipeline([\n",
        "            ('preprocessor', preprocessor),\n",
        "            ('regressor', self.model)\n",
        "        ])\n",
        "\n",
        "# Method for hyperparameter tuning using GridSearchCV\n",
        "    def hyperparameter_tuning(self, X_train, y_train, cv=5):\n",
        "        grid_search = GridSearchCV(\n",
        "            self.pipeline,\n",
        "            param_grid=self.param_grid,\n",
        "            scoring='neg_mean_squared_error',\n",
        "            cv=cv,\n",
        "            n_jobs=-1, verbose=1\n",
        "        )\n",
        "        grid_search.fit(X_train, y_train)\n",
        "        self.best_params_ = grid_search.best_params_\n",
        "        self.best_estimator_ = grid_search.best_estimator_\n",
        "\n",
        "# Method to evaluate the model using test data and calculate evaluation metrics\n",
        "    def evaluate_model(self, X_test, y_test):\n",
        "        self.y_pred = self.best_estimator_.predict(X_test)\n",
        "        self.mse = mean_squared_error(y_test, self.y_pred)\n",
        "        self.rmse = mean_squared_error(y_test, self.y_pred, squared=False)\n",
        "        self.mae = mean_absolute_error(y_test, self.y_pred)\n",
        "        self.r2 = r2_score(y_test, self.y_pred)\n",
        "\n",
        "# Method to print the results of the regression model\n",
        "    def print_results(self):\n",
        "        print(f\"Model: {self.model_name}\")\n",
        "        print(f\"Best Hyperparameters: {self.best_params_}\")\n",
        "        print(f\"MSE: {self.mse:.2f}\")\n",
        "        print(f\"RMSE: {self.rmse:.2f}\")\n",
        "        print(f\"MAE: {self.mae:.2f}\")\n",
        "        print(f\"R2 Score: {self.r2:.2f}\")\n",
        "        print(\"-----------------------\")\n",
        "\n",
        "# Initialize the regression models and their hyperparameter grids\n",
        "# Linear Regression\n",
        "linear_model = LinearRegression()\n",
        "linreg_param_grid = {\n",
        "    'regressor__fit_intercept': [True, False]\n",
        "    }\n",
        "\n",
        "# Random Forest Regressor\n",
        "rf_model = RandomForestRegressor()\n",
        "rf_param_grid = {\n",
        "    'regressor__n_estimators': [50, 100, 150],\n",
        "    'regressor__max_depth': [None, 10, 20],\n",
        "    'regressor__min_samples_split': [2, 5, 10]\n",
        "}\n",
        "\n",
        "# Support Vector Regressor\n",
        "svr_model = SVR()\n",
        "svr_param_grid = {\n",
        "    'regressor__kernel': ['linear', 'poly', 'rbf'],\n",
        "    'regressor__C': [1, 10, 100],\n",
        "    'regressor__epsilon': [0.1, 0.01, 0.001]\n",
        "}\n",
        "\n",
        "# Gradient Boosting Regressor\n",
        "gb_model = GradientBoostingRegressor()\n",
        "gb_param_grid = {\n",
        "    'regressor__n_estimators': [50, 100, 150],\n",
        "    'regressor__max_depth': [None, 3, 5],\n",
        "    'regressor__learning_rate': [0.1, 0.05, 0.01]\n",
        "}\n",
        "\n",
        "# Initialize regression model objects\n",
        "linear_regression = RegressionModel(\"Linear Regression\", linear_model, linreg_param_grid)\n",
        "random_forest = RegressionModel(\"Random Forest Regressor\", rf_model, rf_param_grid)\n",
        "support_vector = RegressionModel(\"Support Vector Regressor\", svr_model, svr_param_grid)\n",
        "gradient_boosting = RegressionModel(\"Gradient Boosting Regressor\", gb_model, gb_param_grid)\n",
        "\n",
        "# Prepare data\n",
        "X, Y = linear_regression.prepare_data(df_train)\n",
        "X_train, X_test, y_train, y_test = train_test_split(X, Y, test_size=0.25, random_state=42)\n",
        "X, Y = random_forest.prepare_data(df_train)\n",
        "X_train, X_test, y_train, y_test = train_test_split(X, Y, test_size=0.25, random_state=42)\n",
        "X, Y = support_vector.prepare_data(df_train)\n",
        "X_train, X_test, y_train, y_test = train_test_split(X, Y, test_size=0.25, random_state=42)\n",
        "X, Y = gradient_boosting.prepare_data(df_train)\n",
        "X_train, X_test, y_train, y_test = train_test_split(X, Y, test_size=0.25, random_state=42)\n",
        "\n",
        "# Build pipelines\n",
        "linear_regression.build_pipeline()\n",
        "random_forest.build_pipeline()\n",
        "support_vector.build_pipeline()\n",
        "gradient_boosting.build_pipeline()\n",
        "\n",
        "# Hyperparameter tuning\n",
        "linear_regression.hyperparameter_tuning(X_train, y_train)\n",
        "random_forest.hyperparameter_tuning(X_train, y_train)\n",
        "support_vector.hyperparameter_tuning(X_train, y_train)\n",
        "gradient_boosting.hyperparameter_tuning(X_train, y_train)\n",
        "\n",
        "# Evaluate and print results\n",
        "linear_regression.evaluate_model(X_test, y_test)\n",
        "random_forest.evaluate_model(X_test, y_test)\n",
        "support_vector.evaluate_model(X_test, y_test)\n",
        "gradient_boosting.evaluate_model(X_test, y_test)\n",
        "\n",
        "linear_regression.print_results()\n",
        "random_forest.print_results()\n",
        "support_vector.print_results()\n",
        "gradient_boosting.print_results()"
      ]
    },
    {
      "cell_type": "markdown",
      "source": [
        "Since we can see from the above data that different model have different MSE, RMSE, MAE,and R2 Score values.Among them RandomForest has the lowest MSE value 74.20 and Linear Regression has the highest 4045.54. We can also see the best params_ after the hypertuning for each model."
      ],
      "metadata": {
        "id": "gBVJLKcluStX"
      }
    },
    {
      "cell_type": "code",
      "execution_count": null,
      "metadata": {
        "colab": {
          "base_uri": "https://localhost:8080/",
          "height": 357
        },
        "id": "YIihSPqPHS6g",
        "outputId": "6f96cf72-eff5-49cf-eaf2-670067836df6"
      },
      "outputs": [
        {
          "output_type": "execute_result",
          "data": {
            "text/plain": [
              "            trip       date dayPart exWeatherTag originLocation  \\\n",
              "0  t333282728025 2017-09-27   night          NaN             S2   \n",
              "1   t35583500660 2017-12-12     day         snow             S2   \n",
              "2  t117664376784 2018-11-18     day          NaN             S7   \n",
              "3  t261320757828 2019-11-18     day          NaN             S5   \n",
              "4  t147086054909 2019-06-02   night         heat             S6   \n",
              "\n",
              "  destinationLocation  distance       type  weight packageType carrier  \n",
              "0                  D8      2000        NaN      50         NaN       C  \n",
              "1                  D1       600        NaN      22         NaN       A  \n",
              "2                  D1      1600  expedited      30         NaN       D  \n",
              "3                  D6      2200        NaN      32         NaN       B  \n",
              "4                  D7      2600        NaN       7         NaN       B  "
            ],
            "text/html": [
              "\n",
              "\n",
              "  <div id=\"df-2ac061de-c6c7-4c81-b989-4cc5de5d46a6\">\n",
              "    <div class=\"colab-df-container\">\n",
              "      <div>\n",
              "<style scoped>\n",
              "    .dataframe tbody tr th:only-of-type {\n",
              "        vertical-align: middle;\n",
              "    }\n",
              "\n",
              "    .dataframe tbody tr th {\n",
              "        vertical-align: top;\n",
              "    }\n",
              "\n",
              "    .dataframe thead th {\n",
              "        text-align: right;\n",
              "    }\n",
              "</style>\n",
              "<table border=\"1\" class=\"dataframe\">\n",
              "  <thead>\n",
              "    <tr style=\"text-align: right;\">\n",
              "      <th></th>\n",
              "      <th>trip</th>\n",
              "      <th>date</th>\n",
              "      <th>dayPart</th>\n",
              "      <th>exWeatherTag</th>\n",
              "      <th>originLocation</th>\n",
              "      <th>destinationLocation</th>\n",
              "      <th>distance</th>\n",
              "      <th>type</th>\n",
              "      <th>weight</th>\n",
              "      <th>packageType</th>\n",
              "      <th>carrier</th>\n",
              "    </tr>\n",
              "  </thead>\n",
              "  <tbody>\n",
              "    <tr>\n",
              "      <th>0</th>\n",
              "      <td>t333282728025</td>\n",
              "      <td>2017-09-27</td>\n",
              "      <td>night</td>\n",
              "      <td>NaN</td>\n",
              "      <td>S2</td>\n",
              "      <td>D8</td>\n",
              "      <td>2000</td>\n",
              "      <td>NaN</td>\n",
              "      <td>50</td>\n",
              "      <td>NaN</td>\n",
              "      <td>C</td>\n",
              "    </tr>\n",
              "    <tr>\n",
              "      <th>1</th>\n",
              "      <td>t35583500660</td>\n",
              "      <td>2017-12-12</td>\n",
              "      <td>day</td>\n",
              "      <td>snow</td>\n",
              "      <td>S2</td>\n",
              "      <td>D1</td>\n",
              "      <td>600</td>\n",
              "      <td>NaN</td>\n",
              "      <td>22</td>\n",
              "      <td>NaN</td>\n",
              "      <td>A</td>\n",
              "    </tr>\n",
              "    <tr>\n",
              "      <th>2</th>\n",
              "      <td>t117664376784</td>\n",
              "      <td>2018-11-18</td>\n",
              "      <td>day</td>\n",
              "      <td>NaN</td>\n",
              "      <td>S7</td>\n",
              "      <td>D1</td>\n",
              "      <td>1600</td>\n",
              "      <td>expedited</td>\n",
              "      <td>30</td>\n",
              "      <td>NaN</td>\n",
              "      <td>D</td>\n",
              "    </tr>\n",
              "    <tr>\n",
              "      <th>3</th>\n",
              "      <td>t261320757828</td>\n",
              "      <td>2019-11-18</td>\n",
              "      <td>day</td>\n",
              "      <td>NaN</td>\n",
              "      <td>S5</td>\n",
              "      <td>D6</td>\n",
              "      <td>2200</td>\n",
              "      <td>NaN</td>\n",
              "      <td>32</td>\n",
              "      <td>NaN</td>\n",
              "      <td>B</td>\n",
              "    </tr>\n",
              "    <tr>\n",
              "      <th>4</th>\n",
              "      <td>t147086054909</td>\n",
              "      <td>2019-06-02</td>\n",
              "      <td>night</td>\n",
              "      <td>heat</td>\n",
              "      <td>S6</td>\n",
              "      <td>D7</td>\n",
              "      <td>2600</td>\n",
              "      <td>NaN</td>\n",
              "      <td>7</td>\n",
              "      <td>NaN</td>\n",
              "      <td>B</td>\n",
              "    </tr>\n",
              "  </tbody>\n",
              "</table>\n",
              "</div>\n",
              "      <button class=\"colab-df-convert\" onclick=\"convertToInteractive('df-2ac061de-c6c7-4c81-b989-4cc5de5d46a6')\"\n",
              "              title=\"Convert this dataframe to an interactive table.\"\n",
              "              style=\"display:none;\">\n",
              "\n",
              "  <svg xmlns=\"http://www.w3.org/2000/svg\" height=\"24px\"viewBox=\"0 0 24 24\"\n",
              "       width=\"24px\">\n",
              "    <path d=\"M0 0h24v24H0V0z\" fill=\"none\"/>\n",
              "    <path d=\"M18.56 5.44l.94 2.06.94-2.06 2.06-.94-2.06-.94-.94-2.06-.94 2.06-2.06.94zm-11 1L8.5 8.5l.94-2.06 2.06-.94-2.06-.94L8.5 2.5l-.94 2.06-2.06.94zm10 10l.94 2.06.94-2.06 2.06-.94-2.06-.94-.94-2.06-.94 2.06-2.06.94z\"/><path d=\"M17.41 7.96l-1.37-1.37c-.4-.4-.92-.59-1.43-.59-.52 0-1.04.2-1.43.59L10.3 9.45l-7.72 7.72c-.78.78-.78 2.05 0 2.83L4 21.41c.39.39.9.59 1.41.59.51 0 1.02-.2 1.41-.59l7.78-7.78 2.81-2.81c.8-.78.8-2.07 0-2.86zM5.41 20L4 18.59l7.72-7.72 1.47 1.35L5.41 20z\"/>\n",
              "  </svg>\n",
              "      </button>\n",
              "\n",
              "\n",
              "\n",
              "    <div id=\"df-65234753-0dc2-4707-8f57-4aac85ab7042\">\n",
              "      <button class=\"colab-df-quickchart\" onclick=\"quickchart('df-65234753-0dc2-4707-8f57-4aac85ab7042')\"\n",
              "              title=\"Suggest charts.\"\n",
              "              style=\"display:none;\">\n",
              "\n",
              "<svg xmlns=\"http://www.w3.org/2000/svg\" height=\"24px\"viewBox=\"0 0 24 24\"\n",
              "     width=\"24px\">\n",
              "    <g>\n",
              "        <path d=\"M19 3H5c-1.1 0-2 .9-2 2v14c0 1.1.9 2 2 2h14c1.1 0 2-.9 2-2V5c0-1.1-.9-2-2-2zM9 17H7v-7h2v7zm4 0h-2V7h2v10zm4 0h-2v-4h2v4z\"/>\n",
              "    </g>\n",
              "</svg>\n",
              "      </button>\n",
              "    </div>\n",
              "\n",
              "<style>\n",
              "  .colab-df-quickchart {\n",
              "    background-color: #E8F0FE;\n",
              "    border: none;\n",
              "    border-radius: 50%;\n",
              "    cursor: pointer;\n",
              "    display: none;\n",
              "    fill: #1967D2;\n",
              "    height: 32px;\n",
              "    padding: 0 0 0 0;\n",
              "    width: 32px;\n",
              "  }\n",
              "\n",
              "  .colab-df-quickchart:hover {\n",
              "    background-color: #E2EBFA;\n",
              "    box-shadow: 0px 1px 2px rgba(60, 64, 67, 0.3), 0px 1px 3px 1px rgba(60, 64, 67, 0.15);\n",
              "    fill: #174EA6;\n",
              "  }\n",
              "\n",
              "  [theme=dark] .colab-df-quickchart {\n",
              "    background-color: #3B4455;\n",
              "    fill: #D2E3FC;\n",
              "  }\n",
              "\n",
              "  [theme=dark] .colab-df-quickchart:hover {\n",
              "    background-color: #434B5C;\n",
              "    box-shadow: 0px 1px 3px 1px rgba(0, 0, 0, 0.15);\n",
              "    filter: drop-shadow(0px 1px 2px rgba(0, 0, 0, 0.3));\n",
              "    fill: #FFFFFF;\n",
              "  }\n",
              "</style>\n",
              "\n",
              "    <script>\n",
              "      async function quickchart(key) {\n",
              "        const containerElement = document.querySelector('#' + key);\n",
              "        const charts = await google.colab.kernel.invokeFunction(\n",
              "            'suggestCharts', [key], {});\n",
              "      }\n",
              "    </script>\n",
              "\n",
              "      <script>\n",
              "\n",
              "function displayQuickchartButton(domScope) {\n",
              "  let quickchartButtonEl =\n",
              "    domScope.querySelector('#df-65234753-0dc2-4707-8f57-4aac85ab7042 button.colab-df-quickchart');\n",
              "  quickchartButtonEl.style.display =\n",
              "    google.colab.kernel.accessAllowed ? 'block' : 'none';\n",
              "}\n",
              "\n",
              "        displayQuickchartButton(document);\n",
              "      </script>\n",
              "      <style>\n",
              "    .colab-df-container {\n",
              "      display:flex;\n",
              "      flex-wrap:wrap;\n",
              "      gap: 12px;\n",
              "    }\n",
              "\n",
              "    .colab-df-convert {\n",
              "      background-color: #E8F0FE;\n",
              "      border: none;\n",
              "      border-radius: 50%;\n",
              "      cursor: pointer;\n",
              "      display: none;\n",
              "      fill: #1967D2;\n",
              "      height: 32px;\n",
              "      padding: 0 0 0 0;\n",
              "      width: 32px;\n",
              "    }\n",
              "\n",
              "    .colab-df-convert:hover {\n",
              "      background-color: #E2EBFA;\n",
              "      box-shadow: 0px 1px 2px rgba(60, 64, 67, 0.3), 0px 1px 3px 1px rgba(60, 64, 67, 0.15);\n",
              "      fill: #174EA6;\n",
              "    }\n",
              "\n",
              "    [theme=dark] .colab-df-convert {\n",
              "      background-color: #3B4455;\n",
              "      fill: #D2E3FC;\n",
              "    }\n",
              "\n",
              "    [theme=dark] .colab-df-convert:hover {\n",
              "      background-color: #434B5C;\n",
              "      box-shadow: 0px 1px 3px 1px rgba(0, 0, 0, 0.15);\n",
              "      filter: drop-shadow(0px 1px 2px rgba(0, 0, 0, 0.3));\n",
              "      fill: #FFFFFF;\n",
              "    }\n",
              "  </style>\n",
              "\n",
              "      <script>\n",
              "        const buttonEl =\n",
              "          document.querySelector('#df-2ac061de-c6c7-4c81-b989-4cc5de5d46a6 button.colab-df-convert');\n",
              "        buttonEl.style.display =\n",
              "          google.colab.kernel.accessAllowed ? 'block' : 'none';\n",
              "\n",
              "        async function convertToInteractive(key) {\n",
              "          const element = document.querySelector('#df-2ac061de-c6c7-4c81-b989-4cc5de5d46a6');\n",
              "          const dataTable =\n",
              "            await google.colab.kernel.invokeFunction('convertToInteractive',\n",
              "                                                     [key], {});\n",
              "          if (!dataTable) return;\n",
              "\n",
              "          const docLinkHtml = 'Like what you see? Visit the ' +\n",
              "            '<a target=\"_blank\" href=https://colab.research.google.com/notebooks/data_table.ipynb>data table notebook</a>'\n",
              "            + ' to learn more about interactive tables.';\n",
              "          element.innerHTML = '';\n",
              "          dataTable['output_type'] = 'display_data';\n",
              "          await google.colab.output.renderOutput(dataTable, element);\n",
              "          const docLink = document.createElement('div');\n",
              "          docLink.innerHTML = docLinkHtml;\n",
              "          element.appendChild(docLink);\n",
              "        }\n",
              "      </script>\n",
              "    </div>\n",
              "  </div>\n"
            ]
          },
          "metadata": {},
          "execution_count": 45
        }
      ],
      "source": [
        "# Read the test CSV file into a DataFrame 'df_test' and parse the 'date' column as datetime objects\n",
        "df_test=pd.read_csv(test_data, parse_dates=['date'])\n",
        "df_test.head(5)"
      ]
    },
    {
      "cell_type": "markdown",
      "source": [
        "Transforming all the test data just like the train data."
      ],
      "metadata": {
        "id": "jYkpC-7QvZh1"
      }
    },
    {
      "cell_type": "code",
      "execution_count": null,
      "metadata": {
        "id": "nIeTs5F1HU_f"
      },
      "outputs": [],
      "source": [
        "# Extract day, month, and year information from the 'date' column in the 'df_test' DataFrame\n",
        "df_test['day'] = df_test['date'].dt.day\n",
        "df_test['month'] = df_test['date'].dt.month\n",
        "df_test['year'] = df_test['date'].dt.year\n",
        "\n",
        "# Drop the 'date' column from the 'df_test' DataFrame as it is no longer needed\n",
        "df_test.drop(columns=['date'],inplace=True)\n",
        "\n",
        "# Fill any missing values in the 'df_test' DataFrame with the string 'unknown'\n",
        "df_test.fillna('unknown',inplace=True)"
      ]
    },
    {
      "cell_type": "code",
      "execution_count": null,
      "metadata": {
        "colab": {
          "base_uri": "https://localhost:8080/",
          "height": 270
        },
        "id": "4YBaAySaIIDe",
        "outputId": "1cd6db97-5d90-4b40-fc40-5bbfab413973"
      },
      "outputs": [
        {
          "output_type": "execute_result",
          "data": {
            "text/plain": [
              "            trip dayPart exWeatherTag originLocation  destinationLocation  \\\n",
              "0  t333282728025   night      unknown             S2                    8   \n",
              "1   t35583500660     day         snow             S2                    1   \n",
              "2  t117664376784     day      unknown             S7                    1   \n",
              "3  t261320757828     day      unknown             S5                    6   \n",
              "4  t147086054909   night         heat             S6                    7   \n",
              "\n",
              "   distance       type  weight packageType carrier  day  month  year  \n",
              "0      2000    unknown      50     unknown       C   27      9  2017  \n",
              "1       600    unknown      22     unknown       A   12     12  2017  \n",
              "2      1600  expedited      30     unknown       D   18     11  2018  \n",
              "3      2200    unknown      32     unknown       B   18     11  2019  \n",
              "4      2600    unknown       7     unknown       B    2      6  2019  "
            ],
            "text/html": [
              "\n",
              "\n",
              "  <div id=\"df-defa8d6f-4f23-4f39-b50b-6a4f0a77cecd\">\n",
              "    <div class=\"colab-df-container\">\n",
              "      <div>\n",
              "<style scoped>\n",
              "    .dataframe tbody tr th:only-of-type {\n",
              "        vertical-align: middle;\n",
              "    }\n",
              "\n",
              "    .dataframe tbody tr th {\n",
              "        vertical-align: top;\n",
              "    }\n",
              "\n",
              "    .dataframe thead th {\n",
              "        text-align: right;\n",
              "    }\n",
              "</style>\n",
              "<table border=\"1\" class=\"dataframe\">\n",
              "  <thead>\n",
              "    <tr style=\"text-align: right;\">\n",
              "      <th></th>\n",
              "      <th>trip</th>\n",
              "      <th>dayPart</th>\n",
              "      <th>exWeatherTag</th>\n",
              "      <th>originLocation</th>\n",
              "      <th>destinationLocation</th>\n",
              "      <th>distance</th>\n",
              "      <th>type</th>\n",
              "      <th>weight</th>\n",
              "      <th>packageType</th>\n",
              "      <th>carrier</th>\n",
              "      <th>day</th>\n",
              "      <th>month</th>\n",
              "      <th>year</th>\n",
              "    </tr>\n",
              "  </thead>\n",
              "  <tbody>\n",
              "    <tr>\n",
              "      <th>0</th>\n",
              "      <td>t333282728025</td>\n",
              "      <td>night</td>\n",
              "      <td>unknown</td>\n",
              "      <td>S2</td>\n",
              "      <td>8</td>\n",
              "      <td>2000</td>\n",
              "      <td>unknown</td>\n",
              "      <td>50</td>\n",
              "      <td>unknown</td>\n",
              "      <td>C</td>\n",
              "      <td>27</td>\n",
              "      <td>9</td>\n",
              "      <td>2017</td>\n",
              "    </tr>\n",
              "    <tr>\n",
              "      <th>1</th>\n",
              "      <td>t35583500660</td>\n",
              "      <td>day</td>\n",
              "      <td>snow</td>\n",
              "      <td>S2</td>\n",
              "      <td>1</td>\n",
              "      <td>600</td>\n",
              "      <td>unknown</td>\n",
              "      <td>22</td>\n",
              "      <td>unknown</td>\n",
              "      <td>A</td>\n",
              "      <td>12</td>\n",
              "      <td>12</td>\n",
              "      <td>2017</td>\n",
              "    </tr>\n",
              "    <tr>\n",
              "      <th>2</th>\n",
              "      <td>t117664376784</td>\n",
              "      <td>day</td>\n",
              "      <td>unknown</td>\n",
              "      <td>S7</td>\n",
              "      <td>1</td>\n",
              "      <td>1600</td>\n",
              "      <td>expedited</td>\n",
              "      <td>30</td>\n",
              "      <td>unknown</td>\n",
              "      <td>D</td>\n",
              "      <td>18</td>\n",
              "      <td>11</td>\n",
              "      <td>2018</td>\n",
              "    </tr>\n",
              "    <tr>\n",
              "      <th>3</th>\n",
              "      <td>t261320757828</td>\n",
              "      <td>day</td>\n",
              "      <td>unknown</td>\n",
              "      <td>S5</td>\n",
              "      <td>6</td>\n",
              "      <td>2200</td>\n",
              "      <td>unknown</td>\n",
              "      <td>32</td>\n",
              "      <td>unknown</td>\n",
              "      <td>B</td>\n",
              "      <td>18</td>\n",
              "      <td>11</td>\n",
              "      <td>2019</td>\n",
              "    </tr>\n",
              "    <tr>\n",
              "      <th>4</th>\n",
              "      <td>t147086054909</td>\n",
              "      <td>night</td>\n",
              "      <td>heat</td>\n",
              "      <td>S6</td>\n",
              "      <td>7</td>\n",
              "      <td>2600</td>\n",
              "      <td>unknown</td>\n",
              "      <td>7</td>\n",
              "      <td>unknown</td>\n",
              "      <td>B</td>\n",
              "      <td>2</td>\n",
              "      <td>6</td>\n",
              "      <td>2019</td>\n",
              "    </tr>\n",
              "  </tbody>\n",
              "</table>\n",
              "</div>\n",
              "      <button class=\"colab-df-convert\" onclick=\"convertToInteractive('df-defa8d6f-4f23-4f39-b50b-6a4f0a77cecd')\"\n",
              "              title=\"Convert this dataframe to an interactive table.\"\n",
              "              style=\"display:none;\">\n",
              "\n",
              "  <svg xmlns=\"http://www.w3.org/2000/svg\" height=\"24px\"viewBox=\"0 0 24 24\"\n",
              "       width=\"24px\">\n",
              "    <path d=\"M0 0h24v24H0V0z\" fill=\"none\"/>\n",
              "    <path d=\"M18.56 5.44l.94 2.06.94-2.06 2.06-.94-2.06-.94-.94-2.06-.94 2.06-2.06.94zm-11 1L8.5 8.5l.94-2.06 2.06-.94-2.06-.94L8.5 2.5l-.94 2.06-2.06.94zm10 10l.94 2.06.94-2.06 2.06-.94-2.06-.94-.94-2.06-.94 2.06-2.06.94z\"/><path d=\"M17.41 7.96l-1.37-1.37c-.4-.4-.92-.59-1.43-.59-.52 0-1.04.2-1.43.59L10.3 9.45l-7.72 7.72c-.78.78-.78 2.05 0 2.83L4 21.41c.39.39.9.59 1.41.59.51 0 1.02-.2 1.41-.59l7.78-7.78 2.81-2.81c.8-.78.8-2.07 0-2.86zM5.41 20L4 18.59l7.72-7.72 1.47 1.35L5.41 20z\"/>\n",
              "  </svg>\n",
              "      </button>\n",
              "\n",
              "\n",
              "\n",
              "    <div id=\"df-fff4a46d-fafb-4fe7-bf79-f1a0d4788bf1\">\n",
              "      <button class=\"colab-df-quickchart\" onclick=\"quickchart('df-fff4a46d-fafb-4fe7-bf79-f1a0d4788bf1')\"\n",
              "              title=\"Suggest charts.\"\n",
              "              style=\"display:none;\">\n",
              "\n",
              "<svg xmlns=\"http://www.w3.org/2000/svg\" height=\"24px\"viewBox=\"0 0 24 24\"\n",
              "     width=\"24px\">\n",
              "    <g>\n",
              "        <path d=\"M19 3H5c-1.1 0-2 .9-2 2v14c0 1.1.9 2 2 2h14c1.1 0 2-.9 2-2V5c0-1.1-.9-2-2-2zM9 17H7v-7h2v7zm4 0h-2V7h2v10zm4 0h-2v-4h2v4z\"/>\n",
              "    </g>\n",
              "</svg>\n",
              "      </button>\n",
              "    </div>\n",
              "\n",
              "<style>\n",
              "  .colab-df-quickchart {\n",
              "    background-color: #E8F0FE;\n",
              "    border: none;\n",
              "    border-radius: 50%;\n",
              "    cursor: pointer;\n",
              "    display: none;\n",
              "    fill: #1967D2;\n",
              "    height: 32px;\n",
              "    padding: 0 0 0 0;\n",
              "    width: 32px;\n",
              "  }\n",
              "\n",
              "  .colab-df-quickchart:hover {\n",
              "    background-color: #E2EBFA;\n",
              "    box-shadow: 0px 1px 2px rgba(60, 64, 67, 0.3), 0px 1px 3px 1px rgba(60, 64, 67, 0.15);\n",
              "    fill: #174EA6;\n",
              "  }\n",
              "\n",
              "  [theme=dark] .colab-df-quickchart {\n",
              "    background-color: #3B4455;\n",
              "    fill: #D2E3FC;\n",
              "  }\n",
              "\n",
              "  [theme=dark] .colab-df-quickchart:hover {\n",
              "    background-color: #434B5C;\n",
              "    box-shadow: 0px 1px 3px 1px rgba(0, 0, 0, 0.15);\n",
              "    filter: drop-shadow(0px 1px 2px rgba(0, 0, 0, 0.3));\n",
              "    fill: #FFFFFF;\n",
              "  }\n",
              "</style>\n",
              "\n",
              "    <script>\n",
              "      async function quickchart(key) {\n",
              "        const containerElement = document.querySelector('#' + key);\n",
              "        const charts = await google.colab.kernel.invokeFunction(\n",
              "            'suggestCharts', [key], {});\n",
              "      }\n",
              "    </script>\n",
              "\n",
              "      <script>\n",
              "\n",
              "function displayQuickchartButton(domScope) {\n",
              "  let quickchartButtonEl =\n",
              "    domScope.querySelector('#df-fff4a46d-fafb-4fe7-bf79-f1a0d4788bf1 button.colab-df-quickchart');\n",
              "  quickchartButtonEl.style.display =\n",
              "    google.colab.kernel.accessAllowed ? 'block' : 'none';\n",
              "}\n",
              "\n",
              "        displayQuickchartButton(document);\n",
              "      </script>\n",
              "      <style>\n",
              "    .colab-df-container {\n",
              "      display:flex;\n",
              "      flex-wrap:wrap;\n",
              "      gap: 12px;\n",
              "    }\n",
              "\n",
              "    .colab-df-convert {\n",
              "      background-color: #E8F0FE;\n",
              "      border: none;\n",
              "      border-radius: 50%;\n",
              "      cursor: pointer;\n",
              "      display: none;\n",
              "      fill: #1967D2;\n",
              "      height: 32px;\n",
              "      padding: 0 0 0 0;\n",
              "      width: 32px;\n",
              "    }\n",
              "\n",
              "    .colab-df-convert:hover {\n",
              "      background-color: #E2EBFA;\n",
              "      box-shadow: 0px 1px 2px rgba(60, 64, 67, 0.3), 0px 1px 3px 1px rgba(60, 64, 67, 0.15);\n",
              "      fill: #174EA6;\n",
              "    }\n",
              "\n",
              "    [theme=dark] .colab-df-convert {\n",
              "      background-color: #3B4455;\n",
              "      fill: #D2E3FC;\n",
              "    }\n",
              "\n",
              "    [theme=dark] .colab-df-convert:hover {\n",
              "      background-color: #434B5C;\n",
              "      box-shadow: 0px 1px 3px 1px rgba(0, 0, 0, 0.15);\n",
              "      filter: drop-shadow(0px 1px 2px rgba(0, 0, 0, 0.3));\n",
              "      fill: #FFFFFF;\n",
              "    }\n",
              "  </style>\n",
              "\n",
              "      <script>\n",
              "        const buttonEl =\n",
              "          document.querySelector('#df-defa8d6f-4f23-4f39-b50b-6a4f0a77cecd button.colab-df-convert');\n",
              "        buttonEl.style.display =\n",
              "          google.colab.kernel.accessAllowed ? 'block' : 'none';\n",
              "\n",
              "        async function convertToInteractive(key) {\n",
              "          const element = document.querySelector('#df-defa8d6f-4f23-4f39-b50b-6a4f0a77cecd');\n",
              "          const dataTable =\n",
              "            await google.colab.kernel.invokeFunction('convertToInteractive',\n",
              "                                                     [key], {});\n",
              "          if (!dataTable) return;\n",
              "\n",
              "          const docLinkHtml = 'Like what you see? Visit the ' +\n",
              "            '<a target=\"_blank\" href=https://colab.research.google.com/notebooks/data_table.ipynb>data table notebook</a>'\n",
              "            + ' to learn more about interactive tables.';\n",
              "          element.innerHTML = '';\n",
              "          dataTable['output_type'] = 'display_data';\n",
              "          await google.colab.output.renderOutput(dataTable, element);\n",
              "          const docLink = document.createElement('div');\n",
              "          docLink.innerHTML = docLinkHtml;\n",
              "          element.appendChild(docLink);\n",
              "        }\n",
              "      </script>\n",
              "    </div>\n",
              "  </div>\n"
            ]
          },
          "metadata": {},
          "execution_count": 47
        }
      ],
      "source": [
        "# Remove character 'D' from the 'destinationLocation' column and convert the column to integer type\n",
        "df_test['destinationLocation'] = df_test['destinationLocation'].str.replace(r'D', '').astype(int)\n",
        "df_test.head(5)"
      ]
    },
    {
      "cell_type": "code",
      "execution_count": null,
      "metadata": {
        "colab": {
          "base_uri": "https://localhost:8080/"
        },
        "id": "EhdvRMdXIe9j",
        "outputId": "0780c3bd-46ff-4011-aa57-6927c9680167"
      },
      "outputs": [
        {
          "output_type": "execute_result",
          "data": {
            "text/plain": [
              "2    116\n",
              "7     98\n",
              "3     91\n",
              "5     89\n",
              "1     88\n",
              "9     86\n",
              "4     84\n",
              "6     78\n",
              "8     72\n",
              "Name: originLocation, dtype: int64"
            ]
          },
          "metadata": {},
          "execution_count": 48
        }
      ],
      "source": [
        "# Remove character 'S' from the 'originLocation' column and convert the column to integer type\n",
        "df_test['originLocation'] = df_test['originLocation'].str.replace(r'S', '').astype(int)\n",
        "df_test['originLocation'].value_counts()"
      ]
    },
    {
      "cell_type": "code",
      "execution_count": null,
      "metadata": {
        "colab": {
          "base_uri": "https://localhost:8080/"
        },
        "id": "z16KhX4uHWrS",
        "outputId": "d04b9791-516d-483f-b665-d10c8b52dfae"
      },
      "outputs": [
        {
          "output_type": "stream",
          "name": "stdout",
          "text": [
            "<class 'pandas.core.frame.DataFrame'>\n",
            "RangeIndex: 802 entries, 0 to 801\n",
            "Data columns (total 13 columns):\n",
            " #   Column               Non-Null Count  Dtype \n",
            "---  ------               --------------  ----- \n",
            " 0   trip                 802 non-null    object\n",
            " 1   dayPart              802 non-null    object\n",
            " 2   exWeatherTag         802 non-null    object\n",
            " 3   originLocation       802 non-null    int64 \n",
            " 4   destinationLocation  802 non-null    int64 \n",
            " 5   distance             802 non-null    int64 \n",
            " 6   type                 802 non-null    object\n",
            " 7   weight               802 non-null    int64 \n",
            " 8   packageType          802 non-null    object\n",
            " 9   carrier              802 non-null    object\n",
            " 10  day                  802 non-null    int64 \n",
            " 11  month                802 non-null    int64 \n",
            " 12  year                 802 non-null    int64 \n",
            "dtypes: int64(7), object(6)\n",
            "memory usage: 81.6+ KB\n"
          ]
        }
      ],
      "source": [
        "df_test.info()"
      ]
    },
    {
      "cell_type": "markdown",
      "source": [
        "Performace on Test set for Linear Regression."
      ],
      "metadata": {
        "id": "WmhLFYi-vnrG"
      }
    },
    {
      "cell_type": "code",
      "execution_count": null,
      "metadata": {
        "colab": {
          "base_uri": "https://localhost:8080/"
        },
        "id": "bUbY-AGVHZx8",
        "outputId": "7cc2a777-5090-4171-940e-439a52525e36"
      },
      "outputs": [
        {
          "output_type": "stream",
          "name": "stdout",
          "text": [
            "Linear Regression submission was successfully saved!\n"
          ]
        }
      ],
      "source": [
        "# Make predictions on test data for Linear Regression\n",
        "X_test_data=linear_regression.prepare_test_data(df_test)\n",
        "linear_regression.build_pipeline()\n",
        "pred_linreg = linear_regression.best_estimator_.predict(X_test_data)\n",
        "# Create a DataFrame for the output of Linear Regression\n",
        "output_linreg = pd.DataFrame()\n",
        "output_linreg['trip'] = df_test['trip']\n",
        "output_linreg['cost'] = pred_linreg\n",
        "\n",
        "# Save the output for Linear Regression to a CSV file\n",
        "output_linreg.to_csv('submission_linreg.csv', index=False)\n",
        "print(\"Linear Regression submission was successfully saved!\")"
      ]
    },
    {
      "cell_type": "markdown",
      "source": [
        "Performace on Test set for Random Forest Regression."
      ],
      "metadata": {
        "id": "H_tBIIqSvu9x"
      }
    },
    {
      "cell_type": "code",
      "execution_count": null,
      "metadata": {
        "colab": {
          "base_uri": "https://localhost:8080/"
        },
        "id": "mSfX0Z4bNKWa",
        "outputId": "516e848e-dca7-4c21-9b7f-f1b5ea93954a"
      },
      "outputs": [
        {
          "output_type": "stream",
          "name": "stdout",
          "text": [
            "Random Forest submission was successfully saved!\n"
          ]
        }
      ],
      "source": [
        "# For Random Forest Regressor\n",
        "X_test_data = random_forest.prepare_test_data(df_test)\n",
        "random_forest.build_pipeline()\n",
        "pred_rf = random_forest.best_estimator_.predict(X_test_data)\n",
        "output_rf = pd.DataFrame()\n",
        "output_rf['trip'] = df_test['trip']\n",
        "output_rf['cost'] = pred_rf\n",
        "output_rf.to_csv('submission_rf.csv', index=False)\n",
        "print(\"Random Forest submission was successfully saved!\")"
      ]
    },
    {
      "cell_type": "markdown",
      "source": [
        "Performace on Test set for Support Vector Regression."
      ],
      "metadata": {
        "id": "ZV1u7ABYvzQl"
      }
    },
    {
      "cell_type": "code",
      "execution_count": null,
      "metadata": {
        "colab": {
          "base_uri": "https://localhost:8080/"
        },
        "id": "vcleTcR1Nfvy",
        "outputId": "beaeecff-576b-4bc8-fd78-4a087aabaf37"
      },
      "outputs": [
        {
          "output_type": "stream",
          "name": "stdout",
          "text": [
            "Support Vector submission was successfully saved!\n"
          ]
        }
      ],
      "source": [
        "# For Support Vector Regressor\n",
        "X_test_data= support_vector.prepare_test_data(df_test)\n",
        "support_vector.build_pipeline()\n",
        "pred_svr = support_vector.best_estimator_.predict(X_test_data)\n",
        "output_svr = pd.DataFrame()\n",
        "output_svr['trip'] = df_test['trip']\n",
        "output_svr['cost'] = pred_svr\n",
        "output_svr.to_csv('submission_svr.csv', index=False)\n",
        "print(\"Support Vector submission was successfully saved!\")"
      ]
    },
    {
      "cell_type": "markdown",
      "source": [
        "Performace on Test set for XGBoost Regression."
      ],
      "metadata": {
        "id": "s23fUaf1v3eE"
      }
    },
    {
      "cell_type": "code",
      "execution_count": null,
      "metadata": {
        "colab": {
          "base_uri": "https://localhost:8080/"
        },
        "id": "1nM9AXR2No6g",
        "outputId": "87c9044d-0290-4d4b-d7ca-bf9e2c70d62a"
      },
      "outputs": [
        {
          "output_type": "stream",
          "name": "stdout",
          "text": [
            "Gradient Boosting submission was successfully saved!\n"
          ]
        }
      ],
      "source": [
        "# For Gradient Boosting Regressor\n",
        "X_test_data = gradient_boosting.prepare_test_data(df_test)\n",
        "gradient_boosting.build_pipeline()\n",
        "pred_gb = gradient_boosting.best_estimator_.predict(X_test_data)\n",
        "output_gb = pd.DataFrame()\n",
        "output_gb['trip'] = df_test['trip']\n",
        "output_gb['cost'] = pred_gb\n",
        "output_gb.to_csv('submission_gb.csv', index=False)\n",
        "print(\"Gradient Boosting submission was successfully saved!\")\n"
      ]
    }
  ],
  "metadata": {
    "colab": {
      "provenance": []
    },
    "kernelspec": {
      "display_name": "Python 3",
      "name": "python3"
    },
    "language_info": {
      "name": "python"
    }
  },
  "nbformat": 4,
  "nbformat_minor": 0
}